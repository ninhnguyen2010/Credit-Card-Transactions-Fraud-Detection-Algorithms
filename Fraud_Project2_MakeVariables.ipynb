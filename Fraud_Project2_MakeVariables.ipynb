{
 "cells": [
  {
   "cell_type": "code",
   "execution_count": 87,
   "metadata": {
    "id": "MfQonL84OKpS"
   },
   "outputs": [],
   "source": [
    "import pandas as pd\n",
    "import scipy.stats\n",
    "import numpy as np\n",
    "import datetime as dt\n",
    "import seaborn as sns\n",
    "import matplotlib.pyplot as plt\n",
    "%matplotlib inline\n",
    "start_time = dt.datetime.now()"
   ]
  },
  {
   "cell_type": "code",
   "execution_count": 88,
   "metadata": {
    "id": "2d0rynhbNhi_"
   },
   "outputs": [],
   "source": [
    "data = pd.read_csv('card transactions after cleaning.csv')"
   ]
  },
  {
   "cell_type": "code",
   "execution_count": 89,
   "metadata": {
    "id": "zC6fI8AYOpwh"
   },
   "outputs": [],
   "source": [
    "#data = data.astype(str)\n",
    "data['Date'] = pd.to_datetime(data['Date'])"
   ]
  },
  {
   "cell_type": "code",
   "execution_count": 90,
   "metadata": {
    "id": "sOF4D5uwn2gD"
   },
   "outputs": [],
   "source": [
    "#BUILD VARIABLE \n",
    "import time\n",
    "import calendar\n",
    "#Day of Week Target Encoding\n",
    "data['dow']=data.Date.apply(lambda x: calendar.day_name[x.weekday()])\n",
    "# Separate the OOT\n",
    "train_set=data[data.Date<'2010-11-01']"
   ]
  },
  {
   "cell_type": "code",
   "execution_count": 91,
   "metadata": {
    "id": "GgKcLswuKiks"
   },
   "outputs": [],
   "source": [
    "#Statistical Smoothing\n",
    "c=4;nmid=20;y_avg=train_set['Fraud'].mean()\n",
    "y_dow=train_set.groupby('dow')['Fraud'].mean()\n",
    "num=train_set.groupby('dow').size()\n",
    "y_dow_smooth=y_avg+(y_dow-y_avg)/(1+np.exp(-(num-nmid)/c))\n",
    "data['dow_risk']=data.dow.map(y_dow_smooth)"
   ]
  },
  {
   "cell_type": "code",
   "execution_count": 92,
   "metadata": {
    "id": "bnqcqnRAKszj"
   },
   "outputs": [],
   "source": [
    "# delete files that we don't need any more to free up memory\n",
    "del train_set"
   ]
  },
  {
   "cell_type": "code",
   "execution_count": 93,
   "metadata": {
    "id": "U-vEvcFuKw0i"
   },
   "outputs": [],
   "source": [
    "y_dow=y_dow.reset_index()\n",
    "cats=['Monday','Tuesday','Wednesday','Thursday','Friday','Saturday','Sunday']\n",
    "y_dow['dow']=pd.Categorical(y_dow['dow'],categories=cats,ordered=True)\n",
    "y_dow=y_dow.sort_values('dow')\n",
    "y_dow=y_dow.set_index('dow')"
   ]
  },
  {
   "cell_type": "code",
   "execution_count": 94,
   "metadata": {
    "id": "qSIS8TYnK-o_"
   },
   "outputs": [],
   "source": [
    "data['Cardnum'] = data['Cardnum'].astype(str)\n",
    "data['Merch zip'] = data['Merch zip'].astype(str)\n",
    "data['Amount'] = data['Amount'].astype(str)\n",
    "data['Date'] = pd.to_datetime(data['Date'])\n"
   ]
  },
  {
   "cell_type": "code",
   "execution_count": 95,
   "metadata": {
    "id": "UEDNco3JJBSE"
   },
   "outputs": [],
   "source": [
    "# Make new entities for variables\n",
    "data['cardnum_merchnum']= data.Cardnum + data.Merchnum\n",
    "data['cardnum_merchzip']= data['Cardnum'] +data['Merch zip']\n",
    "data['cardnum_merchdescription']=data['Cardnum'] +data['Merch description']\n",
    "data['cardnum_merchstate']=data['Cardnum']+data['Merch state']\n",
    "data['merchnum_merchstate']=data.Merchnum+data['Merch state']\n",
    "data['merchnum_merchdescription']=data.Merchnum+data['Merch description']\n",
    "data['cardnum_amount']=data.Cardnum+data.Amount\n",
    "data['merchnum_cardnum_amount']=data.Merchnum+data.cardnum_amount\n",
    "\n"
   ]
  },
  {
   "cell_type": "code",
   "execution_count": 96,
   "metadata": {
    "id": "Cfu8X7qCJEQt"
   },
   "outputs": [],
   "source": [
    "data.columns\n",
    "data['Amount'] = data['Amount'].astype(float)"
   ]
  },
  {
   "cell_type": "code",
   "execution_count": 97,
   "metadata": {
    "id": "pdycfPNNJE8v"
   },
   "outputs": [],
   "source": [
    "attributes=list(data.iloc[:,np.r_[1, 3, 4, 5, 6, 12:20]].columns)"
   ]
  },
  {
   "cell_type": "code",
   "execution_count": 98,
   "metadata": {
    "colab": {
     "base_uri": "https://localhost:8080/"
    },
    "id": "3MWDerxxOl2c",
    "outputId": "4e72d6b0-1f50-4650-a854-d01496356f65"
   },
   "outputs": [
    {
     "data": {
      "text/plain": [
       "['Cardnum',\n",
       " 'Merchnum',\n",
       " 'Merch description',\n",
       " 'Merch state',\n",
       " 'Merch zip',\n",
       " 'cardnum_merchnum',\n",
       " 'cardnum_merchzip',\n",
       " 'cardnum_merchdescription',\n",
       " 'cardnum_merchstate',\n",
       " 'merchnum_merchstate',\n",
       " 'merchnum_merchdescription',\n",
       " 'cardnum_amount',\n",
       " 'merchnum_cardnum_amount']"
      ]
     },
     "execution_count": 98,
     "metadata": {},
     "output_type": "execute_result"
    }
   ],
   "source": [
    "attributes"
   ]
  },
  {
   "cell_type": "code",
   "execution_count": 99,
   "metadata": {
    "colab": {
     "base_uri": "https://localhost:8080/"
    },
    "id": "17rkgHQAOn_I",
    "outputId": "12131dee-1be2-41d7-c9e6-c3b221ba7676"
   },
   "outputs": [
    {
     "data": {
      "text/plain": [
       "(96397, 20)"
      ]
     },
     "execution_count": 99,
     "metadata": {},
     "output_type": "execute_result"
    }
   ],
   "source": [
    "# Create variables\n",
    "df=data.copy()\n",
    "final=data.copy()\n",
    "df['check_date']=df.Date\n",
    "df['check_record']=df.Recnum\n",
    "numvars = 1\n",
    "final.shape"
   ]
  },
  {
   "cell_type": "code",
   "execution_count": 100,
   "metadata": {
    "colab": {
     "base_uri": "https://localhost:8080/"
    },
    "id": "3l73DTOCXpbr",
    "outputId": "930cf71b-4e03-4306-c78a-d1c5ae2151fe"
   },
   "outputs": [
    {
     "name": "stdout",
     "output_type": "stream",
     "text": [
      "\n",
      "Cardnum_day_since ---> Done\n",
      "Cardnum_count_0 ---> Done\n",
      "Cardnum amount variables over past 0 ---> Done\n",
      "Cardnum_count_1 ---> Done\n",
      "Cardnum amount variables over past 1 ---> Done\n",
      "Cardnum_count_3 ---> Done\n",
      "Cardnum amount variables over past 3 ---> Done\n",
      "Cardnum_count_7 ---> Done\n",
      "Cardnum amount variables over past 7 ---> Done\n",
      "Cardnum_count_14 ---> Done\n",
      "Cardnum amount variables over past 14 ---> Done\n",
      "Cardnum_count_30 ---> Done\n",
      "Cardnum amount variables over past 30 ---> Done\n",
      "\n",
      "Merchnum_day_since ---> Done\n",
      "Merchnum_count_0 ---> Done\n",
      "Merchnum amount variables over past 0 ---> Done\n",
      "Merchnum_count_1 ---> Done\n",
      "Merchnum amount variables over past 1 ---> Done\n",
      "Merchnum_count_3 ---> Done\n",
      "Merchnum amount variables over past 3 ---> Done\n",
      "Merchnum_count_7 ---> Done\n",
      "Merchnum amount variables over past 7 ---> Done\n",
      "Merchnum_count_14 ---> Done\n",
      "Merchnum amount variables over past 14 ---> Done\n",
      "Merchnum_count_30 ---> Done\n",
      "Merchnum amount variables over past 30 ---> Done\n",
      "\n",
      "Merch description_day_since ---> Done\n",
      "Merch description_count_0 ---> Done\n",
      "Merch description amount variables over past 0 ---> Done\n",
      "Merch description_count_1 ---> Done\n",
      "Merch description amount variables over past 1 ---> Done\n",
      "Merch description_count_3 ---> Done\n",
      "Merch description amount variables over past 3 ---> Done\n",
      "Merch description_count_7 ---> Done\n",
      "Merch description amount variables over past 7 ---> Done\n",
      "Merch description_count_14 ---> Done\n",
      "Merch description amount variables over past 14 ---> Done\n",
      "Merch description_count_30 ---> Done\n",
      "Merch description amount variables over past 30 ---> Done\n",
      "\n",
      "Merch state_day_since ---> Done\n",
      "Merch state_count_0 ---> Done\n",
      "Merch state amount variables over past 0 ---> Done\n",
      "Merch state_count_1 ---> Done\n",
      "Merch state amount variables over past 1 ---> Done\n",
      "Merch state_count_3 ---> Done\n",
      "Merch state amount variables over past 3 ---> Done\n",
      "Merch state_count_7 ---> Done\n",
      "Merch state amount variables over past 7 ---> Done\n",
      "Merch state_count_14 ---> Done\n",
      "Merch state amount variables over past 14 ---> Done\n",
      "Merch state_count_30 ---> Done\n",
      "Merch state amount variables over past 30 ---> Done\n",
      "\n",
      "Merch zip_day_since ---> Done\n",
      "Merch zip_count_0 ---> Done\n",
      "Merch zip amount variables over past 0 ---> Done\n",
      "Merch zip_count_1 ---> Done\n",
      "Merch zip amount variables over past 1 ---> Done\n",
      "Merch zip_count_3 ---> Done\n",
      "Merch zip amount variables over past 3 ---> Done\n",
      "Merch zip_count_7 ---> Done\n",
      "Merch zip amount variables over past 7 ---> Done\n",
      "Merch zip_count_14 ---> Done\n",
      "Merch zip amount variables over past 14 ---> Done\n",
      "Merch zip_count_30 ---> Done\n",
      "Merch zip amount variables over past 30 ---> Done\n",
      "\n",
      "cardnum_merchnum_day_since ---> Done\n",
      "cardnum_merchnum_count_0 ---> Done\n",
      "cardnum_merchnum amount variables over past 0 ---> Done\n",
      "cardnum_merchnum_count_1 ---> Done\n",
      "cardnum_merchnum amount variables over past 1 ---> Done\n",
      "cardnum_merchnum_count_3 ---> Done\n",
      "cardnum_merchnum amount variables over past 3 ---> Done\n",
      "cardnum_merchnum_count_7 ---> Done\n",
      "cardnum_merchnum amount variables over past 7 ---> Done\n",
      "cardnum_merchnum_count_14 ---> Done\n",
      "cardnum_merchnum amount variables over past 14 ---> Done\n",
      "cardnum_merchnum_count_30 ---> Done\n",
      "cardnum_merchnum amount variables over past 30 ---> Done\n",
      "\n",
      "cardnum_merchzip_day_since ---> Done\n",
      "cardnum_merchzip_count_0 ---> Done\n",
      "cardnum_merchzip amount variables over past 0 ---> Done\n",
      "cardnum_merchzip_count_1 ---> Done\n",
      "cardnum_merchzip amount variables over past 1 ---> Done\n",
      "cardnum_merchzip_count_3 ---> Done\n",
      "cardnum_merchzip amount variables over past 3 ---> Done\n",
      "cardnum_merchzip_count_7 ---> Done\n",
      "cardnum_merchzip amount variables over past 7 ---> Done\n",
      "cardnum_merchzip_count_14 ---> Done\n",
      "cardnum_merchzip amount variables over past 14 ---> Done\n",
      "cardnum_merchzip_count_30 ---> Done\n",
      "cardnum_merchzip amount variables over past 30 ---> Done\n",
      "\n",
      "cardnum_merchdescription_day_since ---> Done\n",
      "cardnum_merchdescription_count_0 ---> Done\n",
      "cardnum_merchdescription amount variables over past 0 ---> Done\n",
      "cardnum_merchdescription_count_1 ---> Done\n",
      "cardnum_merchdescription amount variables over past 1 ---> Done\n",
      "cardnum_merchdescription_count_3 ---> Done\n",
      "cardnum_merchdescription amount variables over past 3 ---> Done\n",
      "cardnum_merchdescription_count_7 ---> Done\n",
      "cardnum_merchdescription amount variables over past 7 ---> Done\n",
      "cardnum_merchdescription_count_14 ---> Done\n",
      "cardnum_merchdescription amount variables over past 14 ---> Done\n",
      "cardnum_merchdescription_count_30 ---> Done\n",
      "cardnum_merchdescription amount variables over past 30 ---> Done\n",
      "\n",
      "cardnum_merchstate_day_since ---> Done\n",
      "cardnum_merchstate_count_0 ---> Done\n",
      "cardnum_merchstate amount variables over past 0 ---> Done\n",
      "cardnum_merchstate_count_1 ---> Done\n",
      "cardnum_merchstate amount variables over past 1 ---> Done\n",
      "cardnum_merchstate_count_3 ---> Done\n",
      "cardnum_merchstate amount variables over past 3 ---> Done\n",
      "cardnum_merchstate_count_7 ---> Done\n",
      "cardnum_merchstate amount variables over past 7 ---> Done\n",
      "cardnum_merchstate_count_14 ---> Done\n",
      "cardnum_merchstate amount variables over past 14 ---> Done\n",
      "cardnum_merchstate_count_30 ---> Done\n",
      "cardnum_merchstate amount variables over past 30 ---> Done\n",
      "\n",
      "merchnum_merchstate_day_since ---> Done\n",
      "merchnum_merchstate_count_0 ---> Done\n",
      "merchnum_merchstate amount variables over past 0 ---> Done\n",
      "merchnum_merchstate_count_1 ---> Done\n",
      "merchnum_merchstate amount variables over past 1 ---> Done\n",
      "merchnum_merchstate_count_3 ---> Done\n",
      "merchnum_merchstate amount variables over past 3 ---> Done\n",
      "merchnum_merchstate_count_7 ---> Done\n",
      "merchnum_merchstate amount variables over past 7 ---> Done\n",
      "merchnum_merchstate_count_14 ---> Done\n",
      "merchnum_merchstate amount variables over past 14 ---> Done\n",
      "merchnum_merchstate_count_30 ---> Done\n",
      "merchnum_merchstate amount variables over past 30 ---> Done\n",
      "\n",
      "merchnum_merchdescription_day_since ---> Done\n",
      "merchnum_merchdescription_count_0 ---> Done\n",
      "merchnum_merchdescription amount variables over past 0 ---> Done\n",
      "merchnum_merchdescription_count_1 ---> Done\n",
      "merchnum_merchdescription amount variables over past 1 ---> Done\n",
      "merchnum_merchdescription_count_3 ---> Done\n",
      "merchnum_merchdescription amount variables over past 3 ---> Done\n",
      "merchnum_merchdescription_count_7 ---> Done\n",
      "merchnum_merchdescription amount variables over past 7 ---> Done\n",
      "merchnum_merchdescription_count_14 ---> Done\n",
      "merchnum_merchdescription amount variables over past 14 ---> Done\n",
      "merchnum_merchdescription_count_30 ---> Done\n",
      "merchnum_merchdescription amount variables over past 30 ---> Done\n",
      "\n",
      "cardnum_amount_day_since ---> Done\n",
      "cardnum_amount_count_0 ---> Done\n",
      "cardnum_amount amount variables over past 0 ---> Done\n",
      "cardnum_amount_count_1 ---> Done\n",
      "cardnum_amount amount variables over past 1 ---> Done\n",
      "cardnum_amount_count_3 ---> Done\n",
      "cardnum_amount amount variables over past 3 ---> Done\n",
      "cardnum_amount_count_7 ---> Done\n",
      "cardnum_amount amount variables over past 7 ---> Done\n",
      "cardnum_amount_count_14 ---> Done\n",
      "cardnum_amount amount variables over past 14 ---> Done\n",
      "cardnum_amount_count_30 ---> Done\n",
      "cardnum_amount amount variables over past 30 ---> Done\n",
      "\n",
      "merchnum_cardnum_amount_day_since ---> Done\n",
      "merchnum_cardnum_amount_count_0 ---> Done\n",
      "merchnum_cardnum_amount amount variables over past 0 ---> Done\n",
      "merchnum_cardnum_amount_count_1 ---> Done\n",
      "merchnum_cardnum_amount amount variables over past 1 ---> Done\n",
      "merchnum_cardnum_amount_count_3 ---> Done\n",
      "merchnum_cardnum_amount amount variables over past 3 ---> Done\n",
      "merchnum_cardnum_amount_count_7 ---> Done\n",
      "merchnum_cardnum_amount amount variables over past 7 ---> Done\n",
      "merchnum_cardnum_amount_count_14 ---> Done\n",
      "merchnum_cardnum_amount amount variables over past 14 ---> Done\n",
      "merchnum_cardnum_amount_count_30 ---> Done\n",
      "merchnum_cardnum_amount amount variables over past 30 ---> Done\n"
     ]
    }
   ],
   "source": [
    "begin = time.time()\n",
    "for entity in attributes:\n",
    "  st = time.time()\n",
    "## Day-since variables:   \n",
    "  df_l = df[['Recnum', 'Date', entity]]\n",
    "  df_r = df[['check_record', 'check_date', entity, 'Amount']]\n",
    "  temp = pd.merge(df_l, df_r, left_on = entity, right_on = entity)\n",
    "  temp1 = temp[temp.Recnum > temp.check_record][['Recnum','Date','check_date']].groupby('Recnum')[['Date', 'check_date']].last()\n",
    "  mapper = (temp1.Date - temp1.check_date).dt.days\n",
    "  final[entity + '_day_since'] = final.Recnum.map(mapper)\n",
    "  final[entity + '_day_since'].fillna((final.Date - pd.to_datetime('2010-01-01')).dt.days, inplace = True)\n",
    "  print('\\n' + entity + '_day_since ---> Done') \n",
    "## Frequency & Amount variables:   \n",
    "  for t in [0,1,3,7,14,30]:\n",
    "    temp2 = temp[(temp.check_date >= (temp.Date - dt.timedelta(t)))&(temp.Recnum >= temp.check_record)][['Recnum', entity, 'Amount']] \n",
    "    col_name = entity + '_count_' + str(t)\n",
    "    mapper2 = temp2.groupby('Recnum')[entity].count()\n",
    "    final[col_name] = final.Recnum.map(mapper2)\n",
    "    print(col_name + ' ---> Done')\n",
    "    final[entity + '_avg_' + str(t)] = final.Recnum.map(temp2.groupby('Recnum')['Amount'].mean())\n",
    "    final[entity + '_max_' + str(t)] = final.Recnum.map(temp2.groupby('Recnum')['Amount'].max())\n",
    "    final[entity + '_med_' + str(t)] = final.Recnum.map(temp2.groupby('Recnum')['Amount'].median())\n",
    "    final[entity + '_total_' + str(t)] = final.Recnum.map(temp2.groupby('Recnum')['Amount'].sum())\n",
    "    final[entity + '_actual/avg_' + str(t)] = final['Amount'] / final[entity + '_avg_' + str(t)]\n",
    "    final[entity + '_actual/max_' + str(t)] = final['Amount'] / final[entity + '_max_' + str(t)]\n",
    "    final[entity + '_actual/med_' + str(t)] = final['Amount'] / final[entity + '_med_' + str(t)]\n",
    "    final[entity + '_actual/toal_' + str(t)] = final['Amount'] / final[entity + '_total_' + str(t)]\n",
    "    print(entity + ' amount variables over past ' + str(t) + ' ---> Done')\n",
    "#print(f'Run time for entity {entity}--------{time.time()-st:0.2f}s')\n",
    "#print(f'Total run time:{(time.time()-begin)/60:0.2f}min')\n"
   ]
  },
  {
   "cell_type": "code",
   "execution_count": 101,
   "metadata": {
    "id": "Me62CwBD_CYz"
   },
   "outputs": [
    {
     "name": "stdout",
     "output_type": "stream",
     "text": [
      "new variables: 715   total variables: 716\n"
     ]
    }
   ],
   "source": [
    "numvars_new = len(final.columns)- 19 - numvars\n",
    "numvars = len(final.columns) - 19\n",
    "print(\"new variables:\",numvars_new,\"  total variables:\",numvars)"
   ]
  },
  {
   "cell_type": "code",
   "execution_count": 102,
   "metadata": {
    "colab": {
     "base_uri": "https://localhost:8080/",
     "height": 624
    },
    "id": "fo2b0ipYoEkT",
    "outputId": "4cc89a8e-337b-4f89-dd9a-0e4c45f09ba3"
   },
   "outputs": [],
   "source": [
    "begin = time.time()\n",
    "# velocity change variables\n",
    "for ent in attributes:\n",
    "  for d in ['0', '1']:\n",
    "    for dd in ['7', '14', '30']:\n",
    "      final[ent + '_count_' + d + '_by_' + dd] = final[ent + '_count_' + d]/(final[ent + '_count_' + dd])/float(dd)"
   ]
  },
  {
   "cell_type": "code",
   "execution_count": 103,
   "metadata": {
    "id": "RlBOmO_v_W4y"
   },
   "outputs": [
    {
     "name": "stdout",
     "output_type": "stream",
     "text": [
      "new variables: 78   total variables: 794\n"
     ]
    }
   ],
   "source": [
    "numvars_new = len(final.columns)- 19 - numvars\n",
    "numvars = len(final.columns) - 19\n",
    "print(\"new variables:\",numvars_new,\"  total variables:\",numvars)"
   ]
  },
  {
   "cell_type": "code",
   "execution_count": 104,
   "metadata": {
    "id": "iwVLIUJE-z8L"
   },
   "outputs": [],
   "source": [
    "begin = time.time()\n",
    "# velocity days since ratio\n",
    "for ent in attributes:\n",
    "  for d in ['0', '1']:\n",
    "    for dd in ['7', '14', '30']:\n",
    "      final[ent + '_vdratio_' + d ] = final[ent + '_count_' + d + '_by_' + dd]/(final[ent + '_day_since']+1)"
   ]
  },
  {
   "cell_type": "code",
   "execution_count": 105,
   "metadata": {
    "id": "WffjYmOi_X3x"
   },
   "outputs": [
    {
     "name": "stdout",
     "output_type": "stream",
     "text": [
      "new variables: 26   total variables: 820\n"
     ]
    }
   ],
   "source": [
    "numvars_new = len(final.columns)- 19 - numvars\n",
    "numvars = len(final.columns) - 19\n",
    "print(\"new variables:\",numvars_new,\"  total variables:\",numvars)"
   ]
  },
  {
   "cell_type": "code",
   "execution_count": 106,
   "metadata": {
    "id": "Z-hBYoHl_dnf"
   },
   "outputs": [
    {
     "name": "stdout",
     "output_type": "stream",
     "text": [
      "Run time for entity Cardnum in field Cardnum ---> Done\n",
      "Run time for entity Cardnum in field Merchnum ---> Done\n",
      "Run time for entity Cardnum in field Merch description ---> Done\n",
      "Run time for entity Cardnum in field Merch state ---> Done\n",
      "Run time for entity Cardnum in field Merch zip ---> Done\n",
      "Run time for entity Cardnum in field cardnum_merchnum ---> Done\n",
      "Run time for entity Cardnum in field cardnum_merchzip ---> Done\n",
      "Run time for entity Cardnum in field cardnum_merchdescription ---> Done\n",
      "Run time for entity Cardnum in field cardnum_merchstate ---> Done\n",
      "Run time for entity Cardnum in field merchnum_merchstate ---> Done\n",
      "Run time for entity Cardnum in field merchnum_merchdescription ---> Done\n",
      "Run time for entity Cardnum in field cardnum_amount ---> Done\n",
      "Run time for entity Cardnum in field merchnum_cardnum_amount ---> Done\n",
      "Run time for entity Merchnum in field Cardnum ---> Done\n",
      "Run time for entity Merchnum in field Merchnum ---> Done\n",
      "Run time for entity Merchnum in field Merch description ---> Done\n",
      "Run time for entity Merchnum in field Merch state ---> Done\n",
      "Run time for entity Merchnum in field Merch zip ---> Done\n",
      "Run time for entity Merchnum in field cardnum_merchnum ---> Done\n",
      "Run time for entity Merchnum in field cardnum_merchzip ---> Done\n",
      "Run time for entity Merchnum in field cardnum_merchdescription ---> Done\n",
      "Run time for entity Merchnum in field cardnum_merchstate ---> Done\n",
      "Run time for entity Merchnum in field merchnum_merchstate ---> Done\n",
      "Run time for entity Merchnum in field merchnum_merchdescription ---> Done\n",
      "Run time for entity Merchnum in field cardnum_amount ---> Done\n",
      "Run time for entity Merchnum in field merchnum_cardnum_amount ---> Done\n",
      "Run time for entity Merch description in field Cardnum ---> Done\n",
      "Run time for entity Merch description in field Merchnum ---> Done\n",
      "Run time for entity Merch description in field Merch description ---> Done\n",
      "Run time for entity Merch description in field Merch state ---> Done\n",
      "Run time for entity Merch description in field Merch zip ---> Done\n",
      "Run time for entity Merch description in field cardnum_merchnum ---> Done\n",
      "Run time for entity Merch description in field cardnum_merchzip ---> Done\n",
      "Run time for entity Merch description in field cardnum_merchdescription ---> Done\n",
      "Run time for entity Merch description in field cardnum_merchstate ---> Done\n",
      "Run time for entity Merch description in field merchnum_merchstate ---> Done\n",
      "Run time for entity Merch description in field merchnum_merchdescription ---> Done\n",
      "Run time for entity Merch description in field cardnum_amount ---> Done\n",
      "Run time for entity Merch description in field merchnum_cardnum_amount ---> Done\n",
      "Run time for entity Merch state in field Cardnum ---> Done\n",
      "Run time for entity Merch state in field Merchnum ---> Done\n",
      "Run time for entity Merch state in field Merch description ---> Done\n",
      "Run time for entity Merch state in field Merch state ---> Done\n",
      "Run time for entity Merch state in field Merch zip ---> Done\n",
      "Run time for entity Merch state in field cardnum_merchnum ---> Done\n",
      "Run time for entity Merch state in field cardnum_merchzip ---> Done\n",
      "Run time for entity Merch state in field cardnum_merchdescription ---> Done\n",
      "Run time for entity Merch state in field cardnum_merchstate ---> Done\n",
      "Run time for entity Merch state in field merchnum_merchstate ---> Done\n",
      "Run time for entity Merch state in field merchnum_merchdescription ---> Done\n",
      "Run time for entity Merch state in field cardnum_amount ---> Done\n",
      "Run time for entity Merch state in field merchnum_cardnum_amount ---> Done\n",
      "Run time for entity Merch zip in field Cardnum ---> Done\n",
      "Run time for entity Merch zip in field Merchnum ---> Done\n",
      "Run time for entity Merch zip in field Merch description ---> Done\n",
      "Run time for entity Merch zip in field Merch state ---> Done\n",
      "Run time for entity Merch zip in field Merch zip ---> Done\n",
      "Run time for entity Merch zip in field cardnum_merchnum ---> Done\n",
      "Run time for entity Merch zip in field cardnum_merchzip ---> Done\n",
      "Run time for entity Merch zip in field cardnum_merchdescription ---> Done\n",
      "Run time for entity Merch zip in field cardnum_merchstate ---> Done\n",
      "Run time for entity Merch zip in field merchnum_merchstate ---> Done\n",
      "Run time for entity Merch zip in field merchnum_merchdescription ---> Done\n",
      "Run time for entity Merch zip in field cardnum_amount ---> Done\n",
      "Run time for entity Merch zip in field merchnum_cardnum_amount ---> Done\n",
      "Run time for entity cardnum_merchnum in field Cardnum ---> Done\n",
      "Run time for entity cardnum_merchnum in field Merchnum ---> Done\n",
      "Run time for entity cardnum_merchnum in field Merch description ---> Done\n",
      "Run time for entity cardnum_merchnum in field Merch state ---> Done\n",
      "Run time for entity cardnum_merchnum in field Merch zip ---> Done\n",
      "Run time for entity cardnum_merchnum in field cardnum_merchnum ---> Done\n",
      "Run time for entity cardnum_merchnum in field cardnum_merchzip ---> Done\n",
      "Run time for entity cardnum_merchnum in field cardnum_merchdescription ---> Done\n",
      "Run time for entity cardnum_merchnum in field cardnum_merchstate ---> Done\n",
      "Run time for entity cardnum_merchnum in field merchnum_merchstate ---> Done\n",
      "Run time for entity cardnum_merchnum in field merchnum_merchdescription ---> Done\n",
      "Run time for entity cardnum_merchnum in field cardnum_amount ---> Done\n",
      "Run time for entity cardnum_merchnum in field merchnum_cardnum_amount ---> Done\n",
      "Run time for entity cardnum_merchzip in field Cardnum ---> Done\n",
      "Run time for entity cardnum_merchzip in field Merchnum ---> Done\n",
      "Run time for entity cardnum_merchzip in field Merch description ---> Done\n",
      "Run time for entity cardnum_merchzip in field Merch state ---> Done\n",
      "Run time for entity cardnum_merchzip in field Merch zip ---> Done\n",
      "Run time for entity cardnum_merchzip in field cardnum_merchnum ---> Done\n",
      "Run time for entity cardnum_merchzip in field cardnum_merchzip ---> Done\n",
      "Run time for entity cardnum_merchzip in field cardnum_merchdescription ---> Done\n",
      "Run time for entity cardnum_merchzip in field cardnum_merchstate ---> Done\n",
      "Run time for entity cardnum_merchzip in field merchnum_merchstate ---> Done\n",
      "Run time for entity cardnum_merchzip in field merchnum_merchdescription ---> Done\n",
      "Run time for entity cardnum_merchzip in field cardnum_amount ---> Done\n",
      "Run time for entity cardnum_merchzip in field merchnum_cardnum_amount ---> Done\n",
      "Run time for entity cardnum_merchdescription in field Cardnum ---> Done\n",
      "Run time for entity cardnum_merchdescription in field Merchnum ---> Done\n",
      "Run time for entity cardnum_merchdescription in field Merch description ---> Done\n",
      "Run time for entity cardnum_merchdescription in field Merch state ---> Done\n",
      "Run time for entity cardnum_merchdescription in field Merch zip ---> Done\n",
      "Run time for entity cardnum_merchdescription in field cardnum_merchnum ---> Done\n",
      "Run time for entity cardnum_merchdescription in field cardnum_merchzip ---> Done\n",
      "Run time for entity cardnum_merchdescription in field cardnum_merchdescription ---> Done\n",
      "Run time for entity cardnum_merchdescription in field cardnum_merchstate ---> Done\n",
      "Run time for entity cardnum_merchdescription in field merchnum_merchstate ---> Done\n",
      "Run time for entity cardnum_merchdescription in field merchnum_merchdescription ---> Done\n",
      "Run time for entity cardnum_merchdescription in field cardnum_amount ---> Done\n",
      "Run time for entity cardnum_merchdescription in field merchnum_cardnum_amount ---> Done\n",
      "Run time for entity cardnum_merchstate in field Cardnum ---> Done\n",
      "Run time for entity cardnum_merchstate in field Merchnum ---> Done\n",
      "Run time for entity cardnum_merchstate in field Merch description ---> Done\n",
      "Run time for entity cardnum_merchstate in field Merch state ---> Done\n",
      "Run time for entity cardnum_merchstate in field Merch zip ---> Done\n",
      "Run time for entity cardnum_merchstate in field cardnum_merchnum ---> Done\n",
      "Run time for entity cardnum_merchstate in field cardnum_merchzip ---> Done\n",
      "Run time for entity cardnum_merchstate in field cardnum_merchdescription ---> Done\n",
      "Run time for entity cardnum_merchstate in field cardnum_merchstate ---> Done\n",
      "Run time for entity cardnum_merchstate in field merchnum_merchstate ---> Done\n",
      "Run time for entity cardnum_merchstate in field merchnum_merchdescription ---> Done\n",
      "Run time for entity cardnum_merchstate in field cardnum_amount ---> Done\n"
     ]
    },
    {
     "name": "stdout",
     "output_type": "stream",
     "text": [
      "Run time for entity cardnum_merchstate in field merchnum_cardnum_amount ---> Done\n",
      "Run time for entity merchnum_merchstate in field Cardnum ---> Done\n",
      "Run time for entity merchnum_merchstate in field Merchnum ---> Done\n",
      "Run time for entity merchnum_merchstate in field Merch description ---> Done\n",
      "Run time for entity merchnum_merchstate in field Merch state ---> Done\n",
      "Run time for entity merchnum_merchstate in field Merch zip ---> Done\n",
      "Run time for entity merchnum_merchstate in field cardnum_merchnum ---> Done\n",
      "Run time for entity merchnum_merchstate in field cardnum_merchzip ---> Done\n",
      "Run time for entity merchnum_merchstate in field cardnum_merchdescription ---> Done\n",
      "Run time for entity merchnum_merchstate in field cardnum_merchstate ---> Done\n",
      "Run time for entity merchnum_merchstate in field merchnum_merchstate ---> Done\n",
      "Run time for entity merchnum_merchstate in field merchnum_merchdescription ---> Done\n",
      "Run time for entity merchnum_merchstate in field cardnum_amount ---> Done\n",
      "Run time for entity merchnum_merchstate in field merchnum_cardnum_amount ---> Done\n",
      "Run time for entity merchnum_merchdescription in field Cardnum ---> Done\n",
      "Run time for entity merchnum_merchdescription in field Merchnum ---> Done\n",
      "Run time for entity merchnum_merchdescription in field Merch description ---> Done\n",
      "Run time for entity merchnum_merchdescription in field Merch state ---> Done\n",
      "Run time for entity merchnum_merchdescription in field Merch zip ---> Done\n",
      "Run time for entity merchnum_merchdescription in field cardnum_merchnum ---> Done\n",
      "Run time for entity merchnum_merchdescription in field cardnum_merchzip ---> Done\n",
      "Run time for entity merchnum_merchdescription in field cardnum_merchdescription ---> Done\n",
      "Run time for entity merchnum_merchdescription in field cardnum_merchstate ---> Done\n",
      "Run time for entity merchnum_merchdescription in field merchnum_merchstate ---> Done\n",
      "Run time for entity merchnum_merchdescription in field merchnum_merchdescription ---> Done\n",
      "Run time for entity merchnum_merchdescription in field cardnum_amount ---> Done\n",
      "Run time for entity merchnum_merchdescription in field merchnum_cardnum_amount ---> Done\n",
      "Run time for entity cardnum_amount in field Cardnum ---> Done\n",
      "Run time for entity cardnum_amount in field Merchnum ---> Done\n",
      "Run time for entity cardnum_amount in field Merch description ---> Done\n",
      "Run time for entity cardnum_amount in field Merch state ---> Done\n",
      "Run time for entity cardnum_amount in field Merch zip ---> Done\n",
      "Run time for entity cardnum_amount in field cardnum_merchnum ---> Done\n",
      "Run time for entity cardnum_amount in field cardnum_merchzip ---> Done\n",
      "Run time for entity cardnum_amount in field cardnum_merchdescription ---> Done\n",
      "Run time for entity cardnum_amount in field cardnum_merchstate ---> Done\n",
      "Run time for entity cardnum_amount in field merchnum_merchstate ---> Done\n",
      "Run time for entity cardnum_amount in field merchnum_merchdescription ---> Done\n",
      "Run time for entity cardnum_amount in field cardnum_amount ---> Done\n",
      "Run time for entity cardnum_amount in field merchnum_cardnum_amount ---> Done\n",
      "Run time for entity merchnum_cardnum_amount in field Cardnum ---> Done\n",
      "Run time for entity merchnum_cardnum_amount in field Merchnum ---> Done\n",
      "Run time for entity merchnum_cardnum_amount in field Merch description ---> Done\n",
      "Run time for entity merchnum_cardnum_amount in field Merch state ---> Done\n",
      "Run time for entity merchnum_cardnum_amount in field Merch zip ---> Done\n",
      "Run time for entity merchnum_cardnum_amount in field cardnum_merchnum ---> Done\n",
      "Run time for entity merchnum_cardnum_amount in field cardnum_merchzip ---> Done\n",
      "Run time for entity merchnum_cardnum_amount in field cardnum_merchdescription ---> Done\n",
      "Run time for entity merchnum_cardnum_amount in field cardnum_merchstate ---> Done\n",
      "Run time for entity merchnum_cardnum_amount in field merchnum_merchstate ---> Done\n",
      "Run time for entity merchnum_cardnum_amount in field merchnum_merchdescription ---> Done\n",
      "Run time for entity merchnum_cardnum_amount in field cardnum_amount ---> Done\n",
      "Run time for entity merchnum_cardnum_amount in field merchnum_cardnum_amount ---> Done\n"
     ]
    }
   ],
   "source": [
    "# Cross entity uniqueness variables\n",
    "for entity in attributes: \n",
    "  for field in attributes:\n",
    "    begin = time.time()\n",
    "    if entity != field:\n",
    "      new_attributes = f'{entity}_{field}_nunique'\n",
    "      if new_attributes not in list(final.columns):\n",
    "        mapper3 = final.groupby(entity)[field].nunique()\n",
    "        final[new_attributes] = final[entity].map(mapper3)\n",
    "    print(f'Run time for entity {entity} in field {field}'+ ' ---> Done')"
   ]
  },
  {
   "cell_type": "code",
   "execution_count": 107,
   "metadata": {
    "id": "0nmoiZPx_kXS"
   },
   "outputs": [
    {
     "name": "stdout",
     "output_type": "stream",
     "text": [
      "new variables: 156   total variables: 976\n"
     ]
    }
   ],
   "source": [
    "numvars_new = len(final.columns)- 19 - numvars\n",
    "numvars = len(final.columns) - 19\n",
    "print(\"new variables:\",numvars_new,\"  total variables:\",numvars)"
   ]
  },
  {
   "cell_type": "code",
   "execution_count": 108,
   "metadata": {
    "id": "ohVWsm9z_lzd"
   },
   "outputs": [],
   "source": [
    "# frequencies\n",
    "df2 = data.copy()\n",
    "df2['check_date'] = df2.Date\n",
    "df2['check_recnum'] = df2.Recnum\n",
    "df_2 = df2[['Recnum', 'Date', 'Amount', 'Cardnum', 'Merchnum']]\n",
    "df_s = df2[['check_recnum', 'check_date', 'Amount', 'Cardnum', 'Merchnum']]\n",
    "temp2 = pd.merge(df_2, df_s, left_on = 'Cardnum', right_on = 'Cardnum')\n",
    "\n",
    "#Frequency Mappers\n",
    "# groupers = ['Cardnum', 'Merchnum']\n",
    "groupers = ['Cardnum']\n",
    "for grouper in groupers:\n",
    "  for d in [0,1]:\n",
    "    for dd in [3,7,14,30]:\n",
    "      numerator_df = temp2[(temp2.check_date >= (temp2.Date - dt.timedelta(d)))& (temp2.Recnum >= temp2.check_recnum)]\n",
    "      denominator_df = temp2[(temp2.check_date >= (temp2.Date - dt.timedelta(dd)))& (temp2.Recnum >= temp2.check_recnum)]\n",
    "\n",
    "      numerator = numerator_df.groupby(grouper)['Recnum'].count()\n",
    "      denominator = denominator_df.groupby(grouper)['Recnum'].count()/dd\n",
    "      \n",
    "      colname = 'relative_velocity_count_by_' + grouper + '_' + str(d) + '_days_over_' + str(dd)\n",
    "      \n",
    "      final[colname] = final[grouper].map(numerator)/final[grouper].map(denominator)\n"
   ]
  },
  {
   "cell_type": "code",
   "execution_count": 109,
   "metadata": {
    "id": "-PrSVofv_tAl"
   },
   "outputs": [
    {
     "name": "stdout",
     "output_type": "stream",
     "text": [
      "new variables: 8   total variables: 984\n"
     ]
    }
   ],
   "source": [
    "numvars_new = len(final.columns)- 19 - numvars\n",
    "numvars = len(final.columns) - 19\n",
    "print(\"new variables:\",numvars_new,\"  total variables:\",numvars)"
   ]
  },
  {
   "cell_type": "code",
   "execution_count": 110,
   "metadata": {
    "id": "1-gwy3ld_uo2"
   },
   "outputs": [
    {
     "name": "stdout",
     "output_type": "stream",
     "text": [
      "Cardnum_variability_avg_0 ---> Done\n",
      "Cardnum_variability_max_0 ---> Done\n",
      "Cardnum_variability_med_0 ---> Done\n",
      "Cardnum amount variables over past 0 ---> Done\n",
      "Cardnum_variability_avg_1 ---> Done\n",
      "Cardnum_variability_max_1 ---> Done\n",
      "Cardnum_variability_med_1 ---> Done\n",
      "Cardnum amount variables over past 1 ---> Done\n",
      "Cardnum_variability_avg_3 ---> Done\n",
      "Cardnum_variability_max_3 ---> Done\n",
      "Cardnum_variability_med_3 ---> Done\n",
      "Cardnum amount variables over past 3 ---> Done\n",
      "Cardnum_variability_avg_7 ---> Done\n",
      "Cardnum_variability_max_7 ---> Done\n",
      "Cardnum_variability_med_7 ---> Done\n",
      "Cardnum amount variables over past 7 ---> Done\n",
      "Cardnum_variability_avg_14 ---> Done\n",
      "Cardnum_variability_max_14 ---> Done\n",
      "Cardnum_variability_med_14 ---> Done\n",
      "Cardnum amount variables over past 14 ---> Done\n",
      "Cardnum_variability_avg_30 ---> Done\n",
      "Cardnum_variability_max_30 ---> Done\n",
      "Cardnum_variability_med_30 ---> Done\n",
      "Cardnum amount variables over past 30 ---> Done\n",
      "Merchnum_variability_avg_0 ---> Done\n",
      "Merchnum_variability_max_0 ---> Done\n",
      "Merchnum_variability_med_0 ---> Done\n",
      "Merchnum amount variables over past 0 ---> Done\n",
      "Merchnum_variability_avg_1 ---> Done\n",
      "Merchnum_variability_max_1 ---> Done\n",
      "Merchnum_variability_med_1 ---> Done\n",
      "Merchnum amount variables over past 1 ---> Done\n",
      "Merchnum_variability_avg_3 ---> Done\n",
      "Merchnum_variability_max_3 ---> Done\n",
      "Merchnum_variability_med_3 ---> Done\n",
      "Merchnum amount variables over past 3 ---> Done\n",
      "Merchnum_variability_avg_7 ---> Done\n",
      "Merchnum_variability_max_7 ---> Done\n",
      "Merchnum_variability_med_7 ---> Done\n",
      "Merchnum amount variables over past 7 ---> Done\n",
      "Merchnum_variability_avg_14 ---> Done\n",
      "Merchnum_variability_max_14 ---> Done\n",
      "Merchnum_variability_med_14 ---> Done\n",
      "Merchnum amount variables over past 14 ---> Done\n",
      "Merchnum_variability_avg_30 ---> Done\n",
      "Merchnum_variability_max_30 ---> Done\n",
      "Merchnum_variability_med_30 ---> Done\n",
      "Merchnum amount variables over past 30 ---> Done\n",
      "Merch description_variability_avg_0 ---> Done\n",
      "Merch description_variability_max_0 ---> Done\n",
      "Merch description_variability_med_0 ---> Done\n",
      "Merch description amount variables over past 0 ---> Done\n",
      "Merch description_variability_avg_1 ---> Done\n",
      "Merch description_variability_max_1 ---> Done\n",
      "Merch description_variability_med_1 ---> Done\n",
      "Merch description amount variables over past 1 ---> Done\n",
      "Merch description_variability_avg_3 ---> Done\n",
      "Merch description_variability_max_3 ---> Done\n",
      "Merch description_variability_med_3 ---> Done\n",
      "Merch description amount variables over past 3 ---> Done\n",
      "Merch description_variability_avg_7 ---> Done\n",
      "Merch description_variability_max_7 ---> Done\n",
      "Merch description_variability_med_7 ---> Done\n",
      "Merch description amount variables over past 7 ---> Done\n",
      "Merch description_variability_avg_14 ---> Done\n",
      "Merch description_variability_max_14 ---> Done\n",
      "Merch description_variability_med_14 ---> Done\n",
      "Merch description amount variables over past 14 ---> Done\n",
      "Merch description_variability_avg_30 ---> Done\n",
      "Merch description_variability_max_30 ---> Done\n",
      "Merch description_variability_med_30 ---> Done\n",
      "Merch description amount variables over past 30 ---> Done\n",
      "Merch state_variability_avg_0 ---> Done\n",
      "Merch state_variability_max_0 ---> Done\n",
      "Merch state_variability_med_0 ---> Done\n",
      "Merch state amount variables over past 0 ---> Done\n",
      "Merch state_variability_avg_1 ---> Done\n",
      "Merch state_variability_max_1 ---> Done\n",
      "Merch state_variability_med_1 ---> Done\n",
      "Merch state amount variables over past 1 ---> Done\n",
      "Merch state_variability_avg_3 ---> Done\n",
      "Merch state_variability_max_3 ---> Done\n",
      "Merch state_variability_med_3 ---> Done\n",
      "Merch state amount variables over past 3 ---> Done\n",
      "Merch state_variability_avg_7 ---> Done\n",
      "Merch state_variability_max_7 ---> Done\n",
      "Merch state_variability_med_7 ---> Done\n",
      "Merch state amount variables over past 7 ---> Done\n",
      "Merch state_variability_avg_14 ---> Done\n",
      "Merch state_variability_max_14 ---> Done\n",
      "Merch state_variability_med_14 ---> Done\n",
      "Merch state amount variables over past 14 ---> Done\n",
      "Merch state_variability_avg_30 ---> Done\n",
      "Merch state_variability_max_30 ---> Done\n",
      "Merch state_variability_med_30 ---> Done\n",
      "Merch state amount variables over past 30 ---> Done\n",
      "Merch zip_variability_avg_0 ---> Done\n",
      "Merch zip_variability_max_0 ---> Done\n",
      "Merch zip_variability_med_0 ---> Done\n",
      "Merch zip amount variables over past 0 ---> Done\n",
      "Merch zip_variability_avg_1 ---> Done\n",
      "Merch zip_variability_max_1 ---> Done\n",
      "Merch zip_variability_med_1 ---> Done\n",
      "Merch zip amount variables over past 1 ---> Done\n",
      "Merch zip_variability_avg_3 ---> Done\n",
      "Merch zip_variability_max_3 ---> Done\n",
      "Merch zip_variability_med_3 ---> Done\n",
      "Merch zip amount variables over past 3 ---> Done\n",
      "Merch zip_variability_avg_7 ---> Done\n",
      "Merch zip_variability_max_7 ---> Done\n",
      "Merch zip_variability_med_7 ---> Done\n",
      "Merch zip amount variables over past 7 ---> Done\n",
      "Merch zip_variability_avg_14 ---> Done\n",
      "Merch zip_variability_max_14 ---> Done\n",
      "Merch zip_variability_med_14 ---> Done\n",
      "Merch zip amount variables over past 14 ---> Done\n",
      "Merch zip_variability_avg_30 ---> Done\n",
      "Merch zip_variability_max_30 ---> Done\n",
      "Merch zip_variability_med_30 ---> Done\n",
      "Merch zip amount variables over past 30 ---> Done\n",
      "cardnum_merchnum_variability_avg_0 ---> Done\n",
      "cardnum_merchnum_variability_max_0 ---> Done\n",
      "cardnum_merchnum_variability_med_0 ---> Done\n",
      "cardnum_merchnum amount variables over past 0 ---> Done\n",
      "cardnum_merchnum_variability_avg_1 ---> Done\n",
      "cardnum_merchnum_variability_max_1 ---> Done\n",
      "cardnum_merchnum_variability_med_1 ---> Done\n",
      "cardnum_merchnum amount variables over past 1 ---> Done\n",
      "cardnum_merchnum_variability_avg_3 ---> Done\n",
      "cardnum_merchnum_variability_max_3 ---> Done\n",
      "cardnum_merchnum_variability_med_3 ---> Done\n",
      "cardnum_merchnum amount variables over past 3 ---> Done\n",
      "cardnum_merchnum_variability_avg_7 ---> Done\n",
      "cardnum_merchnum_variability_max_7 ---> Done\n",
      "cardnum_merchnum_variability_med_7 ---> Done\n",
      "cardnum_merchnum amount variables over past 7 ---> Done\n",
      "cardnum_merchnum_variability_avg_14 ---> Done\n",
      "cardnum_merchnum_variability_max_14 ---> Done\n",
      "cardnum_merchnum_variability_med_14 ---> Done\n",
      "cardnum_merchnum amount variables over past 14 ---> Done\n",
      "cardnum_merchnum_variability_avg_30 ---> Done\n",
      "cardnum_merchnum_variability_max_30 ---> Done\n",
      "cardnum_merchnum_variability_med_30 ---> Done\n",
      "cardnum_merchnum amount variables over past 30 ---> Done\n",
      "cardnum_merchzip_variability_avg_0 ---> Done\n",
      "cardnum_merchzip_variability_max_0 ---> Done\n",
      "cardnum_merchzip_variability_med_0 ---> Done\n",
      "cardnum_merchzip amount variables over past 0 ---> Done\n",
      "cardnum_merchzip_variability_avg_1 ---> Done\n",
      "cardnum_merchzip_variability_max_1 ---> Done\n",
      "cardnum_merchzip_variability_med_1 ---> Done\n",
      "cardnum_merchzip amount variables over past 1 ---> Done\n",
      "cardnum_merchzip_variability_avg_3 ---> Done\n",
      "cardnum_merchzip_variability_max_3 ---> Done\n",
      "cardnum_merchzip_variability_med_3 ---> Done\n",
      "cardnum_merchzip amount variables over past 3 ---> Done\n",
      "cardnum_merchzip_variability_avg_7 ---> Done\n",
      "cardnum_merchzip_variability_max_7 ---> Done\n",
      "cardnum_merchzip_variability_med_7 ---> Done\n",
      "cardnum_merchzip amount variables over past 7 ---> Done\n",
      "cardnum_merchzip_variability_avg_14 ---> Done\n",
      "cardnum_merchzip_variability_max_14 ---> Done\n",
      "cardnum_merchzip_variability_med_14 ---> Done\n",
      "cardnum_merchzip amount variables over past 14 ---> Done\n",
      "cardnum_merchzip_variability_avg_30 ---> Done\n",
      "cardnum_merchzip_variability_max_30 ---> Done\n",
      "cardnum_merchzip_variability_med_30 ---> Done\n",
      "cardnum_merchzip amount variables over past 30 ---> Done\n",
      "cardnum_merchdescription_variability_avg_0 ---> Done\n",
      "cardnum_merchdescription_variability_max_0 ---> Done\n",
      "cardnum_merchdescription_variability_med_0 ---> Done\n",
      "cardnum_merchdescription amount variables over past 0 ---> Done\n",
      "cardnum_merchdescription_variability_avg_1 ---> Done\n",
      "cardnum_merchdescription_variability_max_1 ---> Done\n",
      "cardnum_merchdescription_variability_med_1 ---> Done\n",
      "cardnum_merchdescription amount variables over past 1 ---> Done\n",
      "cardnum_merchdescription_variability_avg_3 ---> Done\n",
      "cardnum_merchdescription_variability_max_3 ---> Done\n",
      "cardnum_merchdescription_variability_med_3 ---> Done\n",
      "cardnum_merchdescription amount variables over past 3 ---> Done\n",
      "cardnum_merchdescription_variability_avg_7 ---> Done\n",
      "cardnum_merchdescription_variability_max_7 ---> Done\n",
      "cardnum_merchdescription_variability_med_7 ---> Done\n",
      "cardnum_merchdescription amount variables over past 7 ---> Done\n"
     ]
    },
    {
     "name": "stdout",
     "output_type": "stream",
     "text": [
      "cardnum_merchdescription_variability_avg_14 ---> Done\n",
      "cardnum_merchdescription_variability_max_14 ---> Done\n",
      "cardnum_merchdescription_variability_med_14 ---> Done\n",
      "cardnum_merchdescription amount variables over past 14 ---> Done\n",
      "cardnum_merchdescription_variability_avg_30 ---> Done\n",
      "cardnum_merchdescription_variability_max_30 ---> Done\n",
      "cardnum_merchdescription_variability_med_30 ---> Done\n",
      "cardnum_merchdescription amount variables over past 30 ---> Done\n",
      "cardnum_merchstate_variability_avg_0 ---> Done\n",
      "cardnum_merchstate_variability_max_0 ---> Done\n",
      "cardnum_merchstate_variability_med_0 ---> Done\n",
      "cardnum_merchstate amount variables over past 0 ---> Done\n",
      "cardnum_merchstate_variability_avg_1 ---> Done\n",
      "cardnum_merchstate_variability_max_1 ---> Done\n",
      "cardnum_merchstate_variability_med_1 ---> Done\n",
      "cardnum_merchstate amount variables over past 1 ---> Done\n",
      "cardnum_merchstate_variability_avg_3 ---> Done\n",
      "cardnum_merchstate_variability_max_3 ---> Done\n",
      "cardnum_merchstate_variability_med_3 ---> Done\n",
      "cardnum_merchstate amount variables over past 3 ---> Done\n",
      "cardnum_merchstate_variability_avg_7 ---> Done\n",
      "cardnum_merchstate_variability_max_7 ---> Done\n",
      "cardnum_merchstate_variability_med_7 ---> Done\n",
      "cardnum_merchstate amount variables over past 7 ---> Done\n",
      "cardnum_merchstate_variability_avg_14 ---> Done\n",
      "cardnum_merchstate_variability_max_14 ---> Done\n",
      "cardnum_merchstate_variability_med_14 ---> Done\n",
      "cardnum_merchstate amount variables over past 14 ---> Done\n",
      "cardnum_merchstate_variability_avg_30 ---> Done\n",
      "cardnum_merchstate_variability_max_30 ---> Done\n",
      "cardnum_merchstate_variability_med_30 ---> Done\n",
      "cardnum_merchstate amount variables over past 30 ---> Done\n",
      "merchnum_merchstate_variability_avg_0 ---> Done\n",
      "merchnum_merchstate_variability_max_0 ---> Done\n",
      "merchnum_merchstate_variability_med_0 ---> Done\n",
      "merchnum_merchstate amount variables over past 0 ---> Done\n",
      "merchnum_merchstate_variability_avg_1 ---> Done\n",
      "merchnum_merchstate_variability_max_1 ---> Done\n",
      "merchnum_merchstate_variability_med_1 ---> Done\n",
      "merchnum_merchstate amount variables over past 1 ---> Done\n",
      "merchnum_merchstate_variability_avg_3 ---> Done\n",
      "merchnum_merchstate_variability_max_3 ---> Done\n",
      "merchnum_merchstate_variability_med_3 ---> Done\n",
      "merchnum_merchstate amount variables over past 3 ---> Done\n",
      "merchnum_merchstate_variability_avg_7 ---> Done\n",
      "merchnum_merchstate_variability_max_7 ---> Done\n",
      "merchnum_merchstate_variability_med_7 ---> Done\n",
      "merchnum_merchstate amount variables over past 7 ---> Done\n",
      "merchnum_merchstate_variability_avg_14 ---> Done\n",
      "merchnum_merchstate_variability_max_14 ---> Done\n",
      "merchnum_merchstate_variability_med_14 ---> Done\n",
      "merchnum_merchstate amount variables over past 14 ---> Done\n",
      "merchnum_merchstate_variability_avg_30 ---> Done\n",
      "merchnum_merchstate_variability_max_30 ---> Done\n",
      "merchnum_merchstate_variability_med_30 ---> Done\n",
      "merchnum_merchstate amount variables over past 30 ---> Done\n",
      "merchnum_merchdescription_variability_avg_0 ---> Done\n",
      "merchnum_merchdescription_variability_max_0 ---> Done\n",
      "merchnum_merchdescription_variability_med_0 ---> Done\n",
      "merchnum_merchdescription amount variables over past 0 ---> Done\n",
      "merchnum_merchdescription_variability_avg_1 ---> Done\n",
      "merchnum_merchdescription_variability_max_1 ---> Done\n",
      "merchnum_merchdescription_variability_med_1 ---> Done\n",
      "merchnum_merchdescription amount variables over past 1 ---> Done\n",
      "merchnum_merchdescription_variability_avg_3 ---> Done\n",
      "merchnum_merchdescription_variability_max_3 ---> Done\n",
      "merchnum_merchdescription_variability_med_3 ---> Done\n",
      "merchnum_merchdescription amount variables over past 3 ---> Done\n",
      "merchnum_merchdescription_variability_avg_7 ---> Done\n",
      "merchnum_merchdescription_variability_max_7 ---> Done\n",
      "merchnum_merchdescription_variability_med_7 ---> Done\n",
      "merchnum_merchdescription amount variables over past 7 ---> Done\n",
      "merchnum_merchdescription_variability_avg_14 ---> Done\n",
      "merchnum_merchdescription_variability_max_14 ---> Done\n",
      "merchnum_merchdescription_variability_med_14 ---> Done\n",
      "merchnum_merchdescription amount variables over past 14 ---> Done\n",
      "merchnum_merchdescription_variability_avg_30 ---> Done\n",
      "merchnum_merchdescription_variability_max_30 ---> Done\n",
      "merchnum_merchdescription_variability_med_30 ---> Done\n",
      "merchnum_merchdescription amount variables over past 30 ---> Done\n",
      "cardnum_amount_variability_avg_0 ---> Done\n",
      "cardnum_amount_variability_max_0 ---> Done\n",
      "cardnum_amount_variability_med_0 ---> Done\n",
      "cardnum_amount amount variables over past 0 ---> Done\n",
      "cardnum_amount_variability_avg_1 ---> Done\n",
      "cardnum_amount_variability_max_1 ---> Done\n",
      "cardnum_amount_variability_med_1 ---> Done\n",
      "cardnum_amount amount variables over past 1 ---> Done\n",
      "cardnum_amount_variability_avg_3 ---> Done\n",
      "cardnum_amount_variability_max_3 ---> Done\n",
      "cardnum_amount_variability_med_3 ---> Done\n",
      "cardnum_amount amount variables over past 3 ---> Done\n",
      "cardnum_amount_variability_avg_7 ---> Done\n",
      "cardnum_amount_variability_max_7 ---> Done\n",
      "cardnum_amount_variability_med_7 ---> Done\n",
      "cardnum_amount amount variables over past 7 ---> Done\n",
      "cardnum_amount_variability_avg_14 ---> Done\n",
      "cardnum_amount_variability_max_14 ---> Done\n",
      "cardnum_amount_variability_med_14 ---> Done\n",
      "cardnum_amount amount variables over past 14 ---> Done\n",
      "cardnum_amount_variability_avg_30 ---> Done\n",
      "cardnum_amount_variability_max_30 ---> Done\n",
      "cardnum_amount_variability_med_30 ---> Done\n",
      "cardnum_amount amount variables over past 30 ---> Done\n",
      "merchnum_cardnum_amount_variability_avg_0 ---> Done\n",
      "merchnum_cardnum_amount_variability_max_0 ---> Done\n",
      "merchnum_cardnum_amount_variability_med_0 ---> Done\n",
      "merchnum_cardnum_amount amount variables over past 0 ---> Done\n",
      "merchnum_cardnum_amount_variability_avg_1 ---> Done\n",
      "merchnum_cardnum_amount_variability_max_1 ---> Done\n",
      "merchnum_cardnum_amount_variability_med_1 ---> Done\n",
      "merchnum_cardnum_amount amount variables over past 1 ---> Done\n",
      "merchnum_cardnum_amount_variability_avg_3 ---> Done\n",
      "merchnum_cardnum_amount_variability_max_3 ---> Done\n",
      "merchnum_cardnum_amount_variability_med_3 ---> Done\n",
      "merchnum_cardnum_amount amount variables over past 3 ---> Done\n",
      "merchnum_cardnum_amount_variability_avg_7 ---> Done\n",
      "merchnum_cardnum_amount_variability_max_7 ---> Done\n",
      "merchnum_cardnum_amount_variability_med_7 ---> Done\n",
      "merchnum_cardnum_amount amount variables over past 7 ---> Done\n",
      "merchnum_cardnum_amount_variability_avg_14 ---> Done\n",
      "merchnum_cardnum_amount_variability_max_14 ---> Done\n",
      "merchnum_cardnum_amount_variability_med_14 ---> Done\n",
      "merchnum_cardnum_amount amount variables over past 14 ---> Done\n",
      "merchnum_cardnum_amount_variability_avg_30 ---> Done\n",
      "merchnum_cardnum_amount_variability_max_30 ---> Done\n",
      "merchnum_cardnum_amount_variability_med_30 ---> Done\n",
      "merchnum_cardnum_amount amount variables over past 30 ---> Done\n"
     ]
    }
   ],
   "source": [
    "# variability\n",
    "for entity in attributes:\n",
    "  begin = time.time()\n",
    "  df_l = df[['Recnum', 'Date', entity,'Amount']]\n",
    "  df_r = df[['check_record', 'check_date', entity, 'Amount']]\n",
    "  temp = pd.merge(df_l, df_r, left_on = entity, right_on = entity)\n",
    "  \n",
    "  for t in [0,1,3,7,14,30]:\n",
    "    temp2 = temp[(temp.check_date >= (temp.Date - dt.timedelta(t))) & (temp.Recnum >= temp.check_record)][['Recnum', 'check_record',entity, 'Amount_x','Amount_y']]\n",
    "    temp2['Amount_diff']=temp2['Amount_y']-temp2['Amount_x']\n",
    "    \n",
    "    col_name = entity + '_variability_avg_' + str(t)\n",
    "    mapper2 = temp2.groupby('Recnum')['Amount_diff'].mean()\n",
    "    final[col_name] = final.Recnum.map(mapper2)\n",
    "    print(col_name + ' ---> Done')\n",
    "    \n",
    "    col_name = entity + '_variability_max_' + str(t)\n",
    "    mapper2 = temp2.groupby('Recnum')['Amount_diff'].max()\n",
    "    final[col_name] = final.Recnum.map(mapper2)\n",
    "    print(col_name + ' ---> Done')\n",
    "    \n",
    "    col_name = entity + '_variability_med_' + str(t)\n",
    "    mapper2 = temp2.groupby('Recnum')['Amount_diff'].median()\n",
    "    final[col_name] = final.Recnum.map(mapper2)\n",
    "    print(col_name + ' ---> Done')\n",
    "    \n",
    "    print(entity + ' amount variables over past ' + str(t) + ' ---> Done')\n"
   ]
  },
  {
   "cell_type": "code",
   "execution_count": 111,
   "metadata": {
    "id": "at2OnMdjAASL"
   },
   "outputs": [
    {
     "name": "stdout",
     "output_type": "stream",
     "text": [
      "new variables: 234   total variables: 1218\n"
     ]
    }
   ],
   "source": [
    "numvars_new = len(final.columns)- 19 - numvars\n",
    "numvars = len(final.columns) - 19\n",
    "print(\"new variables:\",numvars_new,\"  total variables:\",numvars)"
   ]
  },
  {
   "cell_type": "code",
   "execution_count": 114,
   "metadata": {},
   "outputs": [
    {
     "name": "stdout",
     "output_type": "stream",
     "text": [
      "Run time for entity Cardnum in field Merchnum--------260.04s\n",
      "Run time for entity Cardnum in field Merch description--------268.66s\n",
      "Run time for entity Cardnum in field Merch state--------276.49s\n",
      "Run time for entity Cardnum in field Merch zip--------284.15s\n",
      "Run time for entity Cardnum in field cardnum_merchnum--------292.37s\n",
      "Run time for entity Cardnum in field cardnum_merchzip--------301.41s\n",
      "Run time for entity Cardnum in field cardnum_merchdescription--------309.71s\n",
      "Run time for entity Cardnum in field cardnum_merchstate--------319.21s\n",
      "Run time for entity Cardnum in field merchnum_merchstate--------326.86s\n",
      "Run time for entity Cardnum in field merchnum_merchdescription--------334.79s\n",
      "Run time for entity Cardnum in field cardnum_amount--------342.45s\n",
      "Run time for entity Cardnum in field merchnum_cardnum_amount--------350.06s\n",
      "Total run time:9.12min\n",
      "Run time for entity Merchnum in field Cardnum--------412.68s\n",
      "Run time for entity Merchnum in field Merch description--------471.36s\n",
      "Run time for entity Merchnum in field Merch state--------528.37s\n",
      "Run time for entity Merchnum in field Merch zip--------582.60s\n",
      "Run time for entity Merchnum in field cardnum_merchnum--------645.70s\n",
      "Run time for entity Merchnum in field cardnum_merchzip--------707.98s\n",
      "Run time for entity Merchnum in field cardnum_merchdescription--------776.97s\n",
      "Run time for entity Merchnum in field cardnum_merchstate--------844.84s\n",
      "Run time for entity Merchnum in field merchnum_merchstate--------903.13s\n",
      "Run time for entity Merchnum in field merchnum_merchdescription--------970.33s\n",
      "Run time for entity Merchnum in field cardnum_amount--------1034.55s\n",
      "Run time for entity Merchnum in field merchnum_cardnum_amount--------1100.64s\n",
      "Total run time:21.63min\n",
      "Run time for entity Merch description in field Cardnum--------1111.06s\n",
      "Run time for entity Merch description in field Merchnum--------1119.50s\n",
      "Run time for entity Merch description in field Merch state--------1127.89s\n",
      "Run time for entity Merch description in field Merch zip--------1136.23s\n",
      "Run time for entity Merch description in field cardnum_merchnum--------1145.31s\n",
      "Run time for entity Merch description in field cardnum_merchzip--------1154.48s\n",
      "Run time for entity Merch description in field cardnum_merchdescription--------1163.56s\n",
      "Run time for entity Merch description in field cardnum_merchstate--------1172.66s\n",
      "Run time for entity Merch description in field merchnum_merchstate--------1181.30s\n",
      "Run time for entity Merch description in field merchnum_merchdescription--------1190.00s\n",
      "Run time for entity Merch description in field cardnum_amount--------1199.01s\n",
      "Run time for entity Merch description in field merchnum_cardnum_amount--------1208.02s\n",
      "Total run time:23.42min\n",
      "Run time for entity Merch state in field Cardnum--------1960.49s\n",
      "Run time for entity Merch state in field Merchnum--------2723.01s\n",
      "Run time for entity Merch state in field Merch description--------3477.52s\n",
      "Run time for entity Merch state in field Merch zip--------4218.50s\n",
      "Run time for entity Merch state in field cardnum_merchnum--------4999.36s\n",
      "Run time for entity Merch state in field cardnum_merchzip--------5801.62s\n",
      "Run time for entity Merch state in field cardnum_merchdescription--------6581.26s\n",
      "Run time for entity Merch state in field cardnum_merchstate--------7365.02s\n",
      "Run time for entity Merch state in field merchnum_merchstate--------8153.88s\n",
      "Run time for entity Merch state in field merchnum_merchdescription--------8987.63s\n",
      "Run time for entity Merch state in field cardnum_amount--------9816.89s\n",
      "Run time for entity Merch state in field merchnum_cardnum_amount--------10688.86s\n",
      "Total run time:181.43min\n",
      "Run time for entity Merch zip in field Cardnum--------10888.13s\n",
      "Run time for entity Merch zip in field Merchnum--------11026.05s\n",
      "Run time for entity Merch zip in field Merch description--------11179.41s\n",
      "Run time for entity Merch zip in field Merch state--------11317.86s\n",
      "Run time for entity Merch zip in field cardnum_merchnum--------11477.19s\n",
      "Run time for entity Merch zip in field cardnum_merchzip--------11637.58s\n",
      "Run time for entity Merch zip in field cardnum_merchdescription--------11795.70s\n",
      "Run time for entity Merch zip in field cardnum_merchstate--------11958.37s\n",
      "Run time for entity Merch zip in field merchnum_merchstate--------12114.10s\n",
      "Run time for entity Merch zip in field merchnum_merchdescription--------12268.90s\n",
      "Run time for entity Merch zip in field cardnum_amount--------12428.06s\n",
      "Run time for entity Merch zip in field merchnum_cardnum_amount--------12588.81s\n",
      "Total run time:213.10min\n",
      "Run time for entity cardnum_merchnum in field Cardnum--------12598.40s\n",
      "Run time for entity cardnum_merchnum in field Merchnum--------12600.13s\n",
      "Run time for entity cardnum_merchnum in field Merch description--------12601.97s\n",
      "Run time for entity cardnum_merchnum in field Merch state--------12603.61s\n",
      "Run time for entity cardnum_merchnum in field Merch zip--------12605.25s\n",
      "Run time for entity cardnum_merchnum in field cardnum_merchzip--------12607.06s\n",
      "Run time for entity cardnum_merchnum in field cardnum_merchdescription--------12608.98s\n",
      "Run time for entity cardnum_merchnum in field cardnum_merchstate--------12610.80s\n",
      "Run time for entity cardnum_merchnum in field merchnum_merchstate--------12612.68s\n",
      "Run time for entity cardnum_merchnum in field merchnum_merchdescription--------12614.70s\n",
      "Run time for entity cardnum_merchnum in field cardnum_amount--------12616.62s\n",
      "Run time for entity cardnum_merchnum in field merchnum_cardnum_amount--------12619.20s\n",
      "Total run time:213.60min\n",
      "Run time for entity cardnum_merchzip in field Cardnum--------12621.44s\n",
      "Run time for entity cardnum_merchzip in field Merchnum--------12623.66s\n",
      "Run time for entity cardnum_merchzip in field Merch description--------12626.00s\n",
      "Run time for entity cardnum_merchzip in field Merch state--------12628.12s\n",
      "Run time for entity cardnum_merchzip in field Merch zip--------12630.32s\n",
      "Run time for entity cardnum_merchzip in field cardnum_merchnum--------12632.61s\n",
      "Run time for entity cardnum_merchzip in field cardnum_merchdescription--------12635.02s\n",
      "Run time for entity cardnum_merchzip in field cardnum_merchstate--------12637.28s\n",
      "Run time for entity cardnum_merchzip in field merchnum_merchstate--------12639.61s\n",
      "Run time for entity cardnum_merchzip in field merchnum_merchdescription--------12642.09s\n",
      "Run time for entity cardnum_merchzip in field cardnum_amount--------12644.47s\n",
      "Run time for entity cardnum_merchzip in field merchnum_cardnum_amount--------12646.87s\n",
      "Total run time:214.07min\n",
      "Run time for entity cardnum_merchdescription in field Cardnum--------12647.75s\n",
      "Run time for entity cardnum_merchdescription in field Merchnum--------12648.49s\n",
      "Run time for entity cardnum_merchdescription in field Merch description--------12649.24s\n",
      "Run time for entity cardnum_merchdescription in field Merch state--------12649.94s\n",
      "Run time for entity cardnum_merchdescription in field Merch zip--------12651.11s\n",
      "Run time for entity cardnum_merchdescription in field cardnum_merchnum--------12651.90s\n",
      "Run time for entity cardnum_merchdescription in field cardnum_merchzip--------12652.69s\n",
      "Run time for entity cardnum_merchdescription in field cardnum_merchstate--------12653.47s\n",
      "Run time for entity cardnum_merchdescription in field merchnum_merchstate--------12654.24s\n",
      "Run time for entity cardnum_merchdescription in field merchnum_merchdescription--------12655.05s\n",
      "Run time for entity cardnum_merchdescription in field cardnum_amount--------12655.87s\n",
      "Run time for entity cardnum_merchdescription in field merchnum_cardnum_amount--------12656.73s\n",
      "Total run time:214.23min\n",
      "Run time for entity cardnum_merchstate in field Cardnum--------12659.46s\n",
      "Run time for entity cardnum_merchstate in field Merchnum--------12662.27s\n",
      "Run time for entity cardnum_merchstate in field Merch description--------12665.20s\n",
      "Run time for entity cardnum_merchstate in field Merch state--------12667.87s\n",
      "Run time for entity cardnum_merchstate in field Merch zip--------12670.66s\n",
      "Run time for entity cardnum_merchstate in field cardnum_merchnum--------12673.56s\n",
      "Run time for entity cardnum_merchstate in field cardnum_merchzip--------12676.39s\n",
      "Run time for entity cardnum_merchstate in field cardnum_merchdescription--------12679.36s\n"
     ]
    },
    {
     "name": "stdout",
     "output_type": "stream",
     "text": [
      "Run time for entity cardnum_merchstate in field merchnum_merchstate--------12682.74s\n",
      "Run time for entity cardnum_merchstate in field merchnum_merchdescription--------12685.76s\n",
      "Run time for entity cardnum_merchstate in field cardnum_amount--------12688.69s\n",
      "Run time for entity cardnum_merchstate in field merchnum_cardnum_amount--------12691.64s\n",
      "Total run time:214.81min\n",
      "Run time for entity merchnum_merchstate in field Cardnum--------12751.53s\n",
      "Run time for entity merchnum_merchstate in field Merchnum--------12808.46s\n",
      "Run time for entity merchnum_merchstate in field Merch description--------12868.31s\n",
      "Run time for entity merchnum_merchstate in field Merch state--------12934.10s\n",
      "Run time for entity merchnum_merchstate in field Merch zip--------12991.83s\n",
      "Run time for entity merchnum_merchstate in field cardnum_merchnum--------13057.44s\n",
      "Run time for entity merchnum_merchstate in field cardnum_merchzip--------13126.84s\n",
      "Run time for entity merchnum_merchstate in field cardnum_merchdescription--------13192.42s\n",
      "Run time for entity merchnum_merchstate in field cardnum_merchstate--------13261.02s\n",
      "Run time for entity merchnum_merchstate in field merchnum_merchdescription--------13331.88s\n",
      "Run time for entity merchnum_merchstate in field cardnum_amount--------13398.54s\n",
      "Run time for entity merchnum_merchstate in field merchnum_cardnum_amount--------13464.04s\n",
      "Total run time:227.69min\n",
      "Run time for entity merchnum_merchdescription in field Cardnum--------13473.20s\n",
      "Run time for entity merchnum_merchdescription in field Merchnum--------13479.70s\n",
      "Run time for entity merchnum_merchdescription in field Merch description--------13486.23s\n",
      "Run time for entity merchnum_merchdescription in field Merch state--------13493.09s\n",
      "Run time for entity merchnum_merchdescription in field Merch zip--------13499.61s\n",
      "Run time for entity merchnum_merchdescription in field cardnum_merchnum--------13506.75s\n",
      "Run time for entity merchnum_merchdescription in field cardnum_merchzip--------13513.90s\n",
      "Run time for entity merchnum_merchdescription in field cardnum_merchdescription--------13520.99s\n",
      "Run time for entity merchnum_merchdescription in field cardnum_merchstate--------13528.03s\n",
      "Run time for entity merchnum_merchdescription in field merchnum_merchstate--------13534.64s\n",
      "Run time for entity merchnum_merchdescription in field cardnum_amount--------13541.64s\n",
      "Run time for entity merchnum_merchdescription in field merchnum_cardnum_amount--------13548.70s\n",
      "Total run time:229.10min\n",
      "Run time for entity cardnum_amount in field Cardnum--------13549.56s\n",
      "Run time for entity cardnum_amount in field Merchnum--------13550.21s\n",
      "Run time for entity cardnum_amount in field Merch description--------13550.89s\n",
      "Run time for entity cardnum_amount in field Merch state--------13551.49s\n",
      "Run time for entity cardnum_amount in field Merch zip--------13552.75s\n",
      "Run time for entity cardnum_amount in field cardnum_merchnum--------13553.49s\n",
      "Run time for entity cardnum_amount in field cardnum_merchzip--------13554.25s\n",
      "Run time for entity cardnum_amount in field cardnum_merchdescription--------13554.98s\n",
      "Run time for entity cardnum_amount in field cardnum_merchstate--------13555.65s\n",
      "Run time for entity cardnum_amount in field merchnum_merchstate--------13556.32s\n",
      "Run time for entity cardnum_amount in field merchnum_merchdescription--------13557.04s\n",
      "Run time for entity cardnum_amount in field merchnum_cardnum_amount--------13557.69s\n",
      "Total run time:229.25min\n",
      "Run time for entity merchnum_cardnum_amount in field Cardnum--------13558.28s\n",
      "Run time for entity merchnum_cardnum_amount in field Merchnum--------13558.86s\n",
      "Run time for entity merchnum_cardnum_amount in field Merch description--------13559.46s\n",
      "Run time for entity merchnum_cardnum_amount in field Merch state--------13559.99s\n",
      "Run time for entity merchnum_cardnum_amount in field Merch zip--------13560.54s\n",
      "Run time for entity merchnum_cardnum_amount in field cardnum_merchnum--------13561.15s\n",
      "Run time for entity merchnum_cardnum_amount in field cardnum_merchzip--------13561.76s\n",
      "Run time for entity merchnum_cardnum_amount in field cardnum_merchdescription--------13562.40s\n",
      "Run time for entity merchnum_cardnum_amount in field cardnum_merchstate--------13563.64s\n",
      "Run time for entity merchnum_cardnum_amount in field merchnum_merchstate--------13564.24s\n",
      "Run time for entity merchnum_cardnum_amount in field merchnum_merchdescription--------13564.88s\n",
      "Run time for entity merchnum_cardnum_amount in field cardnum_amount--------13565.45s\n",
      "Total run time:229.38min\n"
     ]
    }
   ],
   "source": [
    "for i in attributes:\n",
    "    for v in attributes:\n",
    "        if i==v:\n",
    "            continue\n",
    "        else:\n",
    "            df_c=df[['Recnum','Date',i]]\n",
    "            df_d=df[['check_record','check_date',i,v]]\n",
    "            temp=pd.merge(df_c,df_d,left_on=i,right_on=i)\n",
    "            \n",
    "        for t in [1,3,7,14,30,60]:\n",
    "            count_day_df=temp[(temp.check_date>=(temp.Date-dt.timedelta(t)))&(temp.Recnum>=temp.check_record)]\n",
    "            col_name=f'{i}_unique_count_for_{v}_{t}'\n",
    "            mapper=count_day_df.groupby(['Recnum'])[v].nunique()\n",
    "            final[col_name]=final.Recnum.map(mapper)\n",
    "        print(f'Run time for entity {i} in field {v}--------{time.time()-st:0.2f}s')\n",
    "        \n",
    "    print(f'Total run time:{(time.time()-begin)/60:0.2f}min')"
   ]
  },
  {
   "cell_type": "code",
   "execution_count": 115,
   "metadata": {
    "id": "S9vn0t2YARwn",
    "scrolled": true
   },
   "outputs": [
    {
     "name": "stdout",
     "output_type": "stream",
     "text": [
      "new variables: 936   total variables: 2154\n"
     ]
    }
   ],
   "source": [
    "numvars_new = len(final.columns)- 19 - numvars\n",
    "numvars = len(final.columns) - 19\n",
    "print(\"new variables:\",numvars_new,\"  total variables:\",numvars)"
   ]
  },
  {
   "cell_type": "code",
   "execution_count": 116,
   "metadata": {
    "id": "M2OMM-EWAWx9"
   },
   "outputs": [
    {
     "data": {
      "image/png": "[encoded data removed]",
      "text/plain": [
       "<Figure size 432x288 with 1 Axes>"
      ]
     },
     "metadata": {
      "needs_background": "light"
     },
     "output_type": "display_data"
    }
   ],
   "source": [
    "# Amount bins\n",
    "AMOUNT = True\n",
    "if AMOUNT:\n",
    "  final['amount_cat'] = pd.qcut(final.Amount, q=5,labels=[1,2,3,4,5])\n",
    "  \n",
    "  final['amount_cat'].value_counts().plot(kind='barh')\n",
    "  plt.show()\n",
    "  \n",
    "  qcut_series, qcut_intervals = pd.qcut(final.Amount, q=5,labels=[1,2,3,4,5],retbins=True)\n",
    "  qcut_series.value_counts()"
   ]
  },
  {
   "cell_type": "code",
   "execution_count": 117,
   "metadata": {
    "id": "4-dK3AgTAeKQ"
   },
   "outputs": [
    {
     "name": "stdout",
     "output_type": "stream",
     "text": [
      "new variables: 1   total variables: 2155\n"
     ]
    }
   ],
   "source": [
    "numvars_new = len(final.columns)- 19 - numvars\n",
    "numvars = len(final.columns) - 19\n",
    "print(\"new variables:\",numvars_new,\"  total variables:\",numvars)"
   ]
  },
  {
   "cell_type": "code",
   "execution_count": 118,
   "metadata": {
    "id": "zyuU9QaqAh2u"
   },
   "outputs": [
    {
     "name": "stdout",
     "output_type": "stream",
     "text": [
      "Cardnum\n",
      "Merchnum\n",
      "Merch description\n",
      "Merch state\n",
      "Merch zip\n",
      "cardnum_merchnum\n",
      "cardnum_merchzip\n",
      "cardnum_merchdescription\n",
      "cardnum_merchstate\n",
      "merchnum_merchstate\n",
      "merchnum_merchdescription\n",
      "cardnum_amount\n",
      "merchnum_cardnum_amount\n"
     ]
    }
   ],
   "source": [
    "# acceleration\n",
    "for ent in attributes:\n",
    "  print(ent)\n",
    "  for d in ['0', '1']:\n",
    "    for dd in ['7', '14', '30']:\n",
    "      final[ent + '_count_' + d + '_by_' + dd + \"_sq\"] = final[ent + '_count_' + d]/(final[ent + '_count_' + dd])/pow(float(dd),2)\n"
   ]
  },
  {
   "cell_type": "code",
   "execution_count": 119,
   "metadata": {
    "id": "byHFyKIRAkow"
   },
   "outputs": [
    {
     "name": "stdout",
     "output_type": "stream",
     "text": [
      "new variables: 78   total variables: 2233\n"
     ]
    }
   ],
   "source": [
    "numvars_new = len(final.columns)- 19 - numvars\n",
    "numvars = len(final.columns) - 19\n",
    "print(\"new variables:\",numvars_new,\"  total variables:\",numvars)"
   ]
  },
  {
   "cell_type": "code",
   "execution_count": 120,
   "metadata": {},
   "outputs": [
    {
     "data": {
      "text/plain": [
       "(96397, 2252)"
      ]
     },
     "execution_count": 120,
     "metadata": {},
     "output_type": "execute_result"
    }
   ],
   "source": [
    "final.shape"
   ]
  },
  {
   "cell_type": "code",
   "execution_count": 121,
   "metadata": {
    "id": "93dba65f"
   },
   "outputs": [],
   "source": [
    "del data"
   ]
  },
  {
   "cell_type": "code",
   "execution_count": 122,
   "metadata": {
    "id": "3a4021fb"
   },
   "outputs": [
    {
     "data": {
      "text/plain": [
       "(96397, 2252)"
      ]
     },
     "execution_count": 122,
     "metadata": {},
     "output_type": "execute_result"
    }
   ],
   "source": [
    "final.shape"
   ]
  },
  {
   "cell_type": "code",
   "execution_count": 123,
   "metadata": {
    "id": "2871b0fc",
    "scrolled": true
   },
   "outputs": [
    {
     "name": "stdout",
     "output_type": "stream",
     "text": [
      "Total run time:237.65min\n"
     ]
    }
   ],
   "source": [
    "final.columns.to_list()\n",
    "print(f'Total run time:{(time.time()-begin)/60:0.2f}min')"
   ]
  },
  {
   "cell_type": "code",
   "execution_count": 124,
   "metadata": {
    "id": "b23e93ad"
   },
   "outputs": [
    {
     "data": {
      "text/plain": [
       "(96397, 2252)"
      ]
     },
     "execution_count": 124,
     "metadata": {},
     "output_type": "execute_result"
    }
   ],
   "source": [
    "final.shape"
   ]
  },
  {
   "cell_type": "code",
   "execution_count": 125,
   "metadata": {
    "id": "dc1f8be4"
   },
   "outputs": [
    {
     "name": "stdout",
     "output_type": "stream",
     "text": [
      "duration:  4:30:10.370880\n"
     ]
    }
   ],
   "source": [
    "print('duration: ',dt.datetime.now() - start_time)"
   ]
  },
  {
   "cell_type": "code",
   "execution_count": 126,
   "metadata": {
    "id": "34e2b8a0"
   },
   "outputs": [
    {
     "data": {
      "text/html": [
       "<div>\n",
       "<style scoped>\n",
       "    .dataframe tbody tr th:only-of-type {\n",
       "        vertical-align: middle;\n",
       "    }\n",
       "\n",
       "    .dataframe tbody tr th {\n",
       "        vertical-align: top;\n",
       "    }\n",
       "\n",
       "    .dataframe thead th {\n",
       "        text-align: right;\n",
       "    }\n",
       "</style>\n",
       "<table border=\"1\" class=\"dataframe\">\n",
       "  <thead>\n",
       "    <tr style=\"text-align: right;\">\n",
       "      <th></th>\n",
       "      <th>Recnum</th>\n",
       "      <th>Cardnum</th>\n",
       "      <th>Date</th>\n",
       "      <th>Merchnum</th>\n",
       "      <th>Merch description</th>\n",
       "      <th>Merch state</th>\n",
       "      <th>Merch zip</th>\n",
       "      <th>Transtype</th>\n",
       "      <th>Amount</th>\n",
       "      <th>Fraud</th>\n",
       "      <th>...</th>\n",
       "      <th>cardnum_amount_count_0_by_30_sq</th>\n",
       "      <th>cardnum_amount_count_1_by_7_sq</th>\n",
       "      <th>cardnum_amount_count_1_by_14_sq</th>\n",
       "      <th>cardnum_amount_count_1_by_30_sq</th>\n",
       "      <th>merchnum_cardnum_amount_count_0_by_7_sq</th>\n",
       "      <th>merchnum_cardnum_amount_count_0_by_14_sq</th>\n",
       "      <th>merchnum_cardnum_amount_count_0_by_30_sq</th>\n",
       "      <th>merchnum_cardnum_amount_count_1_by_7_sq</th>\n",
       "      <th>merchnum_cardnum_amount_count_1_by_14_sq</th>\n",
       "      <th>merchnum_cardnum_amount_count_1_by_30_sq</th>\n",
       "    </tr>\n",
       "  </thead>\n",
       "  <tbody>\n",
       "    <tr>\n",
       "      <th>0</th>\n",
       "      <td>1</td>\n",
       "      <td>5142190439</td>\n",
       "      <td>2010-01-01</td>\n",
       "      <td>5509006296254</td>\n",
       "      <td>FEDEX SHP 12/23/09 AB#</td>\n",
       "      <td>TN</td>\n",
       "      <td>38118.0</td>\n",
       "      <td>P</td>\n",
       "      <td>3.62</td>\n",
       "      <td>0</td>\n",
       "      <td>...</td>\n",
       "      <td>0.001111</td>\n",
       "      <td>0.020408</td>\n",
       "      <td>0.005102</td>\n",
       "      <td>0.001111</td>\n",
       "      <td>0.020408</td>\n",
       "      <td>0.005102</td>\n",
       "      <td>0.001111</td>\n",
       "      <td>0.020408</td>\n",
       "      <td>0.005102</td>\n",
       "      <td>0.001111</td>\n",
       "    </tr>\n",
       "    <tr>\n",
       "      <th>1</th>\n",
       "      <td>2</td>\n",
       "      <td>5142183973</td>\n",
       "      <td>2010-01-01</td>\n",
       "      <td>61003026333</td>\n",
       "      <td>SERVICE MERCHANDISE #81</td>\n",
       "      <td>MA</td>\n",
       "      <td>1803.0</td>\n",
       "      <td>P</td>\n",
       "      <td>31.42</td>\n",
       "      <td>0</td>\n",
       "      <td>...</td>\n",
       "      <td>0.001111</td>\n",
       "      <td>0.020408</td>\n",
       "      <td>0.005102</td>\n",
       "      <td>0.001111</td>\n",
       "      <td>0.020408</td>\n",
       "      <td>0.005102</td>\n",
       "      <td>0.001111</td>\n",
       "      <td>0.020408</td>\n",
       "      <td>0.005102</td>\n",
       "      <td>0.001111</td>\n",
       "    </tr>\n",
       "    <tr>\n",
       "      <th>2</th>\n",
       "      <td>3</td>\n",
       "      <td>5142131721</td>\n",
       "      <td>2010-01-01</td>\n",
       "      <td>4503082993600</td>\n",
       "      <td>OFFICE DEPOT #191</td>\n",
       "      <td>MD</td>\n",
       "      <td>20706.0</td>\n",
       "      <td>P</td>\n",
       "      <td>178.49</td>\n",
       "      <td>0</td>\n",
       "      <td>...</td>\n",
       "      <td>0.001111</td>\n",
       "      <td>0.020408</td>\n",
       "      <td>0.005102</td>\n",
       "      <td>0.001111</td>\n",
       "      <td>0.020408</td>\n",
       "      <td>0.005102</td>\n",
       "      <td>0.001111</td>\n",
       "      <td>0.020408</td>\n",
       "      <td>0.005102</td>\n",
       "      <td>0.001111</td>\n",
       "    </tr>\n",
       "    <tr>\n",
       "      <th>3</th>\n",
       "      <td>4</td>\n",
       "      <td>5142148452</td>\n",
       "      <td>2010-01-01</td>\n",
       "      <td>5509006296254</td>\n",
       "      <td>FEDEX SHP 12/28/09 AB#</td>\n",
       "      <td>TN</td>\n",
       "      <td>38118.0</td>\n",
       "      <td>P</td>\n",
       "      <td>3.62</td>\n",
       "      <td>0</td>\n",
       "      <td>...</td>\n",
       "      <td>0.001111</td>\n",
       "      <td>0.020408</td>\n",
       "      <td>0.005102</td>\n",
       "      <td>0.001111</td>\n",
       "      <td>0.020408</td>\n",
       "      <td>0.005102</td>\n",
       "      <td>0.001111</td>\n",
       "      <td>0.020408</td>\n",
       "      <td>0.005102</td>\n",
       "      <td>0.001111</td>\n",
       "    </tr>\n",
       "    <tr>\n",
       "      <th>4</th>\n",
       "      <td>5</td>\n",
       "      <td>5142190439</td>\n",
       "      <td>2010-01-01</td>\n",
       "      <td>5509006296254</td>\n",
       "      <td>FEDEX SHP 12/23/09 AB#</td>\n",
       "      <td>TN</td>\n",
       "      <td>38118.0</td>\n",
       "      <td>P</td>\n",
       "      <td>3.62</td>\n",
       "      <td>0</td>\n",
       "      <td>...</td>\n",
       "      <td>0.001111</td>\n",
       "      <td>0.020408</td>\n",
       "      <td>0.005102</td>\n",
       "      <td>0.001111</td>\n",
       "      <td>0.020408</td>\n",
       "      <td>0.005102</td>\n",
       "      <td>0.001111</td>\n",
       "      <td>0.020408</td>\n",
       "      <td>0.005102</td>\n",
       "      <td>0.001111</td>\n",
       "    </tr>\n",
       "  </tbody>\n",
       "</table>\n",
       "<p>5 rows × 2252 columns</p>\n",
       "</div>"
      ],
      "text/plain": [
       "   Recnum     Cardnum       Date       Merchnum        Merch description  \\\n",
       "0       1  5142190439 2010-01-01  5509006296254   FEDEX SHP 12/23/09 AB#   \n",
       "1       2  5142183973 2010-01-01    61003026333  SERVICE MERCHANDISE #81   \n",
       "2       3  5142131721 2010-01-01  4503082993600        OFFICE DEPOT #191   \n",
       "3       4  5142148452 2010-01-01  5509006296254   FEDEX SHP 12/28/09 AB#   \n",
       "4       5  5142190439 2010-01-01  5509006296254   FEDEX SHP 12/23/09 AB#   \n",
       "\n",
       "  Merch state Merch zip Transtype  Amount  Fraud  ...  \\\n",
       "0          TN   38118.0         P    3.62      0  ...   \n",
       "1          MA    1803.0         P   31.42      0  ...   \n",
       "2          MD   20706.0         P  178.49      0  ...   \n",
       "3          TN   38118.0         P    3.62      0  ...   \n",
       "4          TN   38118.0         P    3.62      0  ...   \n",
       "\n",
       "  cardnum_amount_count_0_by_30_sq  cardnum_amount_count_1_by_7_sq  \\\n",
       "0                        0.001111                        0.020408   \n",
       "1                        0.001111                        0.020408   \n",
       "2                        0.001111                        0.020408   \n",
       "3                        0.001111                        0.020408   \n",
       "4                        0.001111                        0.020408   \n",
       "\n",
       "  cardnum_amount_count_1_by_14_sq cardnum_amount_count_1_by_30_sq  \\\n",
       "0                        0.005102                        0.001111   \n",
       "1                        0.005102                        0.001111   \n",
       "2                        0.005102                        0.001111   \n",
       "3                        0.005102                        0.001111   \n",
       "4                        0.005102                        0.001111   \n",
       "\n",
       "  merchnum_cardnum_amount_count_0_by_7_sq  \\\n",
       "0                                0.020408   \n",
       "1                                0.020408   \n",
       "2                                0.020408   \n",
       "3                                0.020408   \n",
       "4                                0.020408   \n",
       "\n",
       "  merchnum_cardnum_amount_count_0_by_14_sq  \\\n",
       "0                                 0.005102   \n",
       "1                                 0.005102   \n",
       "2                                 0.005102   \n",
       "3                                 0.005102   \n",
       "4                                 0.005102   \n",
       "\n",
       "  merchnum_cardnum_amount_count_0_by_30_sq  \\\n",
       "0                                 0.001111   \n",
       "1                                 0.001111   \n",
       "2                                 0.001111   \n",
       "3                                 0.001111   \n",
       "4                                 0.001111   \n",
       "\n",
       "  merchnum_cardnum_amount_count_1_by_7_sq  \\\n",
       "0                                0.020408   \n",
       "1                                0.020408   \n",
       "2                                0.020408   \n",
       "3                                0.020408   \n",
       "4                                0.020408   \n",
       "\n",
       "  merchnum_cardnum_amount_count_1_by_14_sq  \\\n",
       "0                                 0.005102   \n",
       "1                                 0.005102   \n",
       "2                                 0.005102   \n",
       "3                                 0.005102   \n",
       "4                                 0.005102   \n",
       "\n",
       "  merchnum_cardnum_amount_count_1_by_30_sq  \n",
       "0                                 0.001111  \n",
       "1                                 0.001111  \n",
       "2                                 0.001111  \n",
       "3                                 0.001111  \n",
       "4                                 0.001111  \n",
       "\n",
       "[5 rows x 2252 columns]"
      ]
     },
     "execution_count": 126,
     "metadata": {},
     "output_type": "execute_result"
    }
   ],
   "source": [
    "final.head()"
   ]
  },
  {
   "cell_type": "code",
   "execution_count": 127,
   "metadata": {
    "id": "18830a7f"
   },
   "outputs": [
    {
     "name": "stdout",
     "output_type": "stream",
     "text": [
      "CPU times: user 1.65 s, sys: 1.17 s, total: 2.82 s\n",
      "Wall time: 1.75 s\n"
     ]
    },
    {
     "data": {
      "text/html": [
       "<div>\n",
       "<style scoped>\n",
       "    .dataframe tbody tr th:only-of-type {\n",
       "        vertical-align: middle;\n",
       "    }\n",
       "\n",
       "    .dataframe tbody tr th {\n",
       "        vertical-align: top;\n",
       "    }\n",
       "\n",
       "    .dataframe thead th {\n",
       "        text-align: right;\n",
       "    }\n",
       "</style>\n",
       "<table border=\"1\" class=\"dataframe\">\n",
       "  <thead>\n",
       "    <tr style=\"text-align: right;\">\n",
       "      <th></th>\n",
       "      <th>Recnum</th>\n",
       "      <th>Date</th>\n",
       "      <th>Transtype</th>\n",
       "      <th>Amount</th>\n",
       "      <th>Fraud</th>\n",
       "      <th>dow</th>\n",
       "      <th>dow_risk</th>\n",
       "      <th>Cardnum_day_since</th>\n",
       "      <th>Cardnum_count_0</th>\n",
       "      <th>Cardnum_avg_0</th>\n",
       "      <th>...</th>\n",
       "      <th>cardnum_amount_count_0_by_30_sq</th>\n",
       "      <th>cardnum_amount_count_1_by_7_sq</th>\n",
       "      <th>cardnum_amount_count_1_by_14_sq</th>\n",
       "      <th>cardnum_amount_count_1_by_30_sq</th>\n",
       "      <th>merchnum_cardnum_amount_count_0_by_7_sq</th>\n",
       "      <th>merchnum_cardnum_amount_count_0_by_14_sq</th>\n",
       "      <th>merchnum_cardnum_amount_count_0_by_30_sq</th>\n",
       "      <th>merchnum_cardnum_amount_count_1_by_7_sq</th>\n",
       "      <th>merchnum_cardnum_amount_count_1_by_14_sq</th>\n",
       "      <th>merchnum_cardnum_amount_count_1_by_30_sq</th>\n",
       "    </tr>\n",
       "  </thead>\n",
       "  <tbody>\n",
       "    <tr>\n",
       "      <th>0</th>\n",
       "      <td>1</td>\n",
       "      <td>2010-01-01</td>\n",
       "      <td>P</td>\n",
       "      <td>3.62</td>\n",
       "      <td>0</td>\n",
       "      <td>Friday</td>\n",
       "      <td>0.025994</td>\n",
       "      <td>0.0</td>\n",
       "      <td>1</td>\n",
       "      <td>3.62</td>\n",
       "      <td>...</td>\n",
       "      <td>0.001111</td>\n",
       "      <td>0.020408</td>\n",
       "      <td>0.005102</td>\n",
       "      <td>0.001111</td>\n",
       "      <td>0.020408</td>\n",
       "      <td>0.005102</td>\n",
       "      <td>0.001111</td>\n",
       "      <td>0.020408</td>\n",
       "      <td>0.005102</td>\n",
       "      <td>0.001111</td>\n",
       "    </tr>\n",
       "    <tr>\n",
       "      <th>1</th>\n",
       "      <td>2</td>\n",
       "      <td>2010-01-01</td>\n",
       "      <td>P</td>\n",
       "      <td>31.42</td>\n",
       "      <td>0</td>\n",
       "      <td>Friday</td>\n",
       "      <td>0.025994</td>\n",
       "      <td>0.0</td>\n",
       "      <td>1</td>\n",
       "      <td>31.42</td>\n",
       "      <td>...</td>\n",
       "      <td>0.001111</td>\n",
       "      <td>0.020408</td>\n",
       "      <td>0.005102</td>\n",
       "      <td>0.001111</td>\n",
       "      <td>0.020408</td>\n",
       "      <td>0.005102</td>\n",
       "      <td>0.001111</td>\n",
       "      <td>0.020408</td>\n",
       "      <td>0.005102</td>\n",
       "      <td>0.001111</td>\n",
       "    </tr>\n",
       "    <tr>\n",
       "      <th>2</th>\n",
       "      <td>3</td>\n",
       "      <td>2010-01-01</td>\n",
       "      <td>P</td>\n",
       "      <td>178.49</td>\n",
       "      <td>0</td>\n",
       "      <td>Friday</td>\n",
       "      <td>0.025994</td>\n",
       "      <td>0.0</td>\n",
       "      <td>1</td>\n",
       "      <td>178.49</td>\n",
       "      <td>...</td>\n",
       "      <td>0.001111</td>\n",
       "      <td>0.020408</td>\n",
       "      <td>0.005102</td>\n",
       "      <td>0.001111</td>\n",
       "      <td>0.020408</td>\n",
       "      <td>0.005102</td>\n",
       "      <td>0.001111</td>\n",
       "      <td>0.020408</td>\n",
       "      <td>0.005102</td>\n",
       "      <td>0.001111</td>\n",
       "    </tr>\n",
       "    <tr>\n",
       "      <th>3</th>\n",
       "      <td>4</td>\n",
       "      <td>2010-01-01</td>\n",
       "      <td>P</td>\n",
       "      <td>3.62</td>\n",
       "      <td>0</td>\n",
       "      <td>Friday</td>\n",
       "      <td>0.025994</td>\n",
       "      <td>0.0</td>\n",
       "      <td>1</td>\n",
       "      <td>3.62</td>\n",
       "      <td>...</td>\n",
       "      <td>0.001111</td>\n",
       "      <td>0.020408</td>\n",
       "      <td>0.005102</td>\n",
       "      <td>0.001111</td>\n",
       "      <td>0.020408</td>\n",
       "      <td>0.005102</td>\n",
       "      <td>0.001111</td>\n",
       "      <td>0.020408</td>\n",
       "      <td>0.005102</td>\n",
       "      <td>0.001111</td>\n",
       "    </tr>\n",
       "    <tr>\n",
       "      <th>4</th>\n",
       "      <td>5</td>\n",
       "      <td>2010-01-01</td>\n",
       "      <td>P</td>\n",
       "      <td>3.62</td>\n",
       "      <td>0</td>\n",
       "      <td>Friday</td>\n",
       "      <td>0.025994</td>\n",
       "      <td>0.0</td>\n",
       "      <td>2</td>\n",
       "      <td>3.62</td>\n",
       "      <td>...</td>\n",
       "      <td>0.001111</td>\n",
       "      <td>0.020408</td>\n",
       "      <td>0.005102</td>\n",
       "      <td>0.001111</td>\n",
       "      <td>0.020408</td>\n",
       "      <td>0.005102</td>\n",
       "      <td>0.001111</td>\n",
       "      <td>0.020408</td>\n",
       "      <td>0.005102</td>\n",
       "      <td>0.001111</td>\n",
       "    </tr>\n",
       "  </tbody>\n",
       "</table>\n",
       "<p>5 rows × 2239 columns</p>\n",
       "</div>"
      ],
      "text/plain": [
       "   Recnum       Date Transtype  Amount  Fraud     dow  dow_risk  \\\n",
       "0       1 2010-01-01         P    3.62      0  Friday  0.025994   \n",
       "1       2 2010-01-01         P   31.42      0  Friday  0.025994   \n",
       "2       3 2010-01-01         P  178.49      0  Friday  0.025994   \n",
       "3       4 2010-01-01         P    3.62      0  Friday  0.025994   \n",
       "4       5 2010-01-01         P    3.62      0  Friday  0.025994   \n",
       "\n",
       "   Cardnum_day_since  Cardnum_count_0  Cardnum_avg_0  ...  \\\n",
       "0                0.0                1           3.62  ...   \n",
       "1                0.0                1          31.42  ...   \n",
       "2                0.0                1         178.49  ...   \n",
       "3                0.0                1           3.62  ...   \n",
       "4                0.0                2           3.62  ...   \n",
       "\n",
       "   cardnum_amount_count_0_by_30_sq  cardnum_amount_count_1_by_7_sq  \\\n",
       "0                         0.001111                        0.020408   \n",
       "1                         0.001111                        0.020408   \n",
       "2                         0.001111                        0.020408   \n",
       "3                         0.001111                        0.020408   \n",
       "4                         0.001111                        0.020408   \n",
       "\n",
       "   cardnum_amount_count_1_by_14_sq  cardnum_amount_count_1_by_30_sq  \\\n",
       "0                         0.005102                         0.001111   \n",
       "1                         0.005102                         0.001111   \n",
       "2                         0.005102                         0.001111   \n",
       "3                         0.005102                         0.001111   \n",
       "4                         0.005102                         0.001111   \n",
       "\n",
       "   merchnum_cardnum_amount_count_0_by_7_sq  \\\n",
       "0                                 0.020408   \n",
       "1                                 0.020408   \n",
       "2                                 0.020408   \n",
       "3                                 0.020408   \n",
       "4                                 0.020408   \n",
       "\n",
       "   merchnum_cardnum_amount_count_0_by_14_sq  \\\n",
       "0                                  0.005102   \n",
       "1                                  0.005102   \n",
       "2                                  0.005102   \n",
       "3                                  0.005102   \n",
       "4                                  0.005102   \n",
       "\n",
       "   merchnum_cardnum_amount_count_0_by_30_sq  \\\n",
       "0                                  0.001111   \n",
       "1                                  0.001111   \n",
       "2                                  0.001111   \n",
       "3                                  0.001111   \n",
       "4                                  0.001111   \n",
       "\n",
       "   merchnum_cardnum_amount_count_1_by_7_sq  \\\n",
       "0                                 0.020408   \n",
       "1                                 0.020408   \n",
       "2                                 0.020408   \n",
       "3                                 0.020408   \n",
       "4                                 0.020408   \n",
       "\n",
       "   merchnum_cardnum_amount_count_1_by_14_sq  \\\n",
       "0                                  0.005102   \n",
       "1                                  0.005102   \n",
       "2                                  0.005102   \n",
       "3                                  0.005102   \n",
       "4                                  0.005102   \n",
       "\n",
       "   merchnum_cardnum_amount_count_1_by_30_sq  \n",
       "0                                  0.001111  \n",
       "1                                  0.001111  \n",
       "2                                  0.001111  \n",
       "3                                  0.001111  \n",
       "4                                  0.001111  \n",
       "\n",
       "[5 rows x 2239 columns]"
      ]
     },
     "execution_count": 127,
     "metadata": {},
     "output_type": "execute_result"
    }
   ],
   "source": [
    "%%time\n",
    "final.drop(columns=attributes,inplace=True)\n",
    "final.head()"
   ]
  },
  {
   "cell_type": "code",
   "execution_count": 128,
   "metadata": {
    "id": "6aea52a1"
   },
   "outputs": [
    {
     "name": "stdout",
     "output_type": "stream",
     "text": [
      "CPU times: user 479 ms, sys: 380 ms, total: 859 ms\n",
      "Wall time: 861 ms\n"
     ]
    },
    {
     "data": {
      "text/html": [
       "<div>\n",
       "<style scoped>\n",
       "    .dataframe tbody tr th:only-of-type {\n",
       "        vertical-align: middle;\n",
       "    }\n",
       "\n",
       "    .dataframe tbody tr th {\n",
       "        vertical-align: top;\n",
       "    }\n",
       "\n",
       "    .dataframe thead th {\n",
       "        text-align: right;\n",
       "    }\n",
       "</style>\n",
       "<table border=\"1\" class=\"dataframe\">\n",
       "  <thead>\n",
       "    <tr style=\"text-align: right;\">\n",
       "      <th></th>\n",
       "      <th>Recnum</th>\n",
       "      <th>Fraud</th>\n",
       "      <th>dow</th>\n",
       "      <th>dow_risk</th>\n",
       "      <th>Cardnum_day_since</th>\n",
       "      <th>Cardnum_count_0</th>\n",
       "      <th>Cardnum_avg_0</th>\n",
       "      <th>Cardnum_max_0</th>\n",
       "      <th>Cardnum_med_0</th>\n",
       "      <th>Cardnum_total_0</th>\n",
       "      <th>...</th>\n",
       "      <th>cardnum_amount_count_0_by_30_sq</th>\n",
       "      <th>cardnum_amount_count_1_by_7_sq</th>\n",
       "      <th>cardnum_amount_count_1_by_14_sq</th>\n",
       "      <th>cardnum_amount_count_1_by_30_sq</th>\n",
       "      <th>merchnum_cardnum_amount_count_0_by_7_sq</th>\n",
       "      <th>merchnum_cardnum_amount_count_0_by_14_sq</th>\n",
       "      <th>merchnum_cardnum_amount_count_0_by_30_sq</th>\n",
       "      <th>merchnum_cardnum_amount_count_1_by_7_sq</th>\n",
       "      <th>merchnum_cardnum_amount_count_1_by_14_sq</th>\n",
       "      <th>merchnum_cardnum_amount_count_1_by_30_sq</th>\n",
       "    </tr>\n",
       "  </thead>\n",
       "  <tbody>\n",
       "    <tr>\n",
       "      <th>0</th>\n",
       "      <td>1</td>\n",
       "      <td>0</td>\n",
       "      <td>Friday</td>\n",
       "      <td>0.025994</td>\n",
       "      <td>0.0</td>\n",
       "      <td>1</td>\n",
       "      <td>3.62</td>\n",
       "      <td>3.62</td>\n",
       "      <td>3.62</td>\n",
       "      <td>3.62</td>\n",
       "      <td>...</td>\n",
       "      <td>0.001111</td>\n",
       "      <td>0.020408</td>\n",
       "      <td>0.005102</td>\n",
       "      <td>0.001111</td>\n",
       "      <td>0.020408</td>\n",
       "      <td>0.005102</td>\n",
       "      <td>0.001111</td>\n",
       "      <td>0.020408</td>\n",
       "      <td>0.005102</td>\n",
       "      <td>0.001111</td>\n",
       "    </tr>\n",
       "    <tr>\n",
       "      <th>1</th>\n",
       "      <td>2</td>\n",
       "      <td>0</td>\n",
       "      <td>Friday</td>\n",
       "      <td>0.025994</td>\n",
       "      <td>0.0</td>\n",
       "      <td>1</td>\n",
       "      <td>31.42</td>\n",
       "      <td>31.42</td>\n",
       "      <td>31.42</td>\n",
       "      <td>31.42</td>\n",
       "      <td>...</td>\n",
       "      <td>0.001111</td>\n",
       "      <td>0.020408</td>\n",
       "      <td>0.005102</td>\n",
       "      <td>0.001111</td>\n",
       "      <td>0.020408</td>\n",
       "      <td>0.005102</td>\n",
       "      <td>0.001111</td>\n",
       "      <td>0.020408</td>\n",
       "      <td>0.005102</td>\n",
       "      <td>0.001111</td>\n",
       "    </tr>\n",
       "    <tr>\n",
       "      <th>2</th>\n",
       "      <td>3</td>\n",
       "      <td>0</td>\n",
       "      <td>Friday</td>\n",
       "      <td>0.025994</td>\n",
       "      <td>0.0</td>\n",
       "      <td>1</td>\n",
       "      <td>178.49</td>\n",
       "      <td>178.49</td>\n",
       "      <td>178.49</td>\n",
       "      <td>178.49</td>\n",
       "      <td>...</td>\n",
       "      <td>0.001111</td>\n",
       "      <td>0.020408</td>\n",
       "      <td>0.005102</td>\n",
       "      <td>0.001111</td>\n",
       "      <td>0.020408</td>\n",
       "      <td>0.005102</td>\n",
       "      <td>0.001111</td>\n",
       "      <td>0.020408</td>\n",
       "      <td>0.005102</td>\n",
       "      <td>0.001111</td>\n",
       "    </tr>\n",
       "    <tr>\n",
       "      <th>3</th>\n",
       "      <td>4</td>\n",
       "      <td>0</td>\n",
       "      <td>Friday</td>\n",
       "      <td>0.025994</td>\n",
       "      <td>0.0</td>\n",
       "      <td>1</td>\n",
       "      <td>3.62</td>\n",
       "      <td>3.62</td>\n",
       "      <td>3.62</td>\n",
       "      <td>3.62</td>\n",
       "      <td>...</td>\n",
       "      <td>0.001111</td>\n",
       "      <td>0.020408</td>\n",
       "      <td>0.005102</td>\n",
       "      <td>0.001111</td>\n",
       "      <td>0.020408</td>\n",
       "      <td>0.005102</td>\n",
       "      <td>0.001111</td>\n",
       "      <td>0.020408</td>\n",
       "      <td>0.005102</td>\n",
       "      <td>0.001111</td>\n",
       "    </tr>\n",
       "    <tr>\n",
       "      <th>4</th>\n",
       "      <td>5</td>\n",
       "      <td>0</td>\n",
       "      <td>Friday</td>\n",
       "      <td>0.025994</td>\n",
       "      <td>0.0</td>\n",
       "      <td>2</td>\n",
       "      <td>3.62</td>\n",
       "      <td>3.62</td>\n",
       "      <td>3.62</td>\n",
       "      <td>7.24</td>\n",
       "      <td>...</td>\n",
       "      <td>0.001111</td>\n",
       "      <td>0.020408</td>\n",
       "      <td>0.005102</td>\n",
       "      <td>0.001111</td>\n",
       "      <td>0.020408</td>\n",
       "      <td>0.005102</td>\n",
       "      <td>0.001111</td>\n",
       "      <td>0.020408</td>\n",
       "      <td>0.005102</td>\n",
       "      <td>0.001111</td>\n",
       "    </tr>\n",
       "  </tbody>\n",
       "</table>\n",
       "<p>5 rows × 2236 columns</p>\n",
       "</div>"
      ],
      "text/plain": [
       "   Recnum  Fraud     dow  dow_risk  Cardnum_day_since  Cardnum_count_0  \\\n",
       "0       1      0  Friday  0.025994                0.0                1   \n",
       "1       2      0  Friday  0.025994                0.0                1   \n",
       "2       3      0  Friday  0.025994                0.0                1   \n",
       "3       4      0  Friday  0.025994                0.0                1   \n",
       "4       5      0  Friday  0.025994                0.0                2   \n",
       "\n",
       "   Cardnum_avg_0  Cardnum_max_0  Cardnum_med_0  Cardnum_total_0  ...  \\\n",
       "0           3.62           3.62           3.62             3.62  ...   \n",
       "1          31.42          31.42          31.42            31.42  ...   \n",
       "2         178.49         178.49         178.49           178.49  ...   \n",
       "3           3.62           3.62           3.62             3.62  ...   \n",
       "4           3.62           3.62           3.62             7.24  ...   \n",
       "\n",
       "   cardnum_amount_count_0_by_30_sq  cardnum_amount_count_1_by_7_sq  \\\n",
       "0                         0.001111                        0.020408   \n",
       "1                         0.001111                        0.020408   \n",
       "2                         0.001111                        0.020408   \n",
       "3                         0.001111                        0.020408   \n",
       "4                         0.001111                        0.020408   \n",
       "\n",
       "   cardnum_amount_count_1_by_14_sq  cardnum_amount_count_1_by_30_sq  \\\n",
       "0                         0.005102                         0.001111   \n",
       "1                         0.005102                         0.001111   \n",
       "2                         0.005102                         0.001111   \n",
       "3                         0.005102                         0.001111   \n",
       "4                         0.005102                         0.001111   \n",
       "\n",
       "   merchnum_cardnum_amount_count_0_by_7_sq  \\\n",
       "0                                 0.020408   \n",
       "1                                 0.020408   \n",
       "2                                 0.020408   \n",
       "3                                 0.020408   \n",
       "4                                 0.020408   \n",
       "\n",
       "   merchnum_cardnum_amount_count_0_by_14_sq  \\\n",
       "0                                  0.005102   \n",
       "1                                  0.005102   \n",
       "2                                  0.005102   \n",
       "3                                  0.005102   \n",
       "4                                  0.005102   \n",
       "\n",
       "   merchnum_cardnum_amount_count_0_by_30_sq  \\\n",
       "0                                  0.001111   \n",
       "1                                  0.001111   \n",
       "2                                  0.001111   \n",
       "3                                  0.001111   \n",
       "4                                  0.001111   \n",
       "\n",
       "   merchnum_cardnum_amount_count_1_by_7_sq  \\\n",
       "0                                 0.020408   \n",
       "1                                 0.020408   \n",
       "2                                 0.020408   \n",
       "3                                 0.020408   \n",
       "4                                 0.020408   \n",
       "\n",
       "   merchnum_cardnum_amount_count_1_by_14_sq  \\\n",
       "0                                  0.005102   \n",
       "1                                  0.005102   \n",
       "2                                  0.005102   \n",
       "3                                  0.005102   \n",
       "4                                  0.005102   \n",
       "\n",
       "   merchnum_cardnum_amount_count_1_by_30_sq  \n",
       "0                                  0.001111  \n",
       "1                                  0.001111  \n",
       "2                                  0.001111  \n",
       "3                                  0.001111  \n",
       "4                                  0.001111  \n",
       "\n",
       "[5 rows x 2236 columns]"
      ]
     },
     "execution_count": 128,
     "metadata": {},
     "output_type": "execute_result"
    }
   ],
   "source": [
    "%%time\n",
    "final.drop(columns=['Date','Transtype','Amount'],inplace=True)\n",
    "final.head()"
   ]
  },
  {
   "cell_type": "code",
   "execution_count": 129,
   "metadata": {
    "id": "8c9862d4",
    "scrolled": true
   },
   "outputs": [
    {
     "data": {
      "text/plain": [
       "(96397, 2236)"
      ]
     },
     "execution_count": 129,
     "metadata": {},
     "output_type": "execute_result"
    }
   ],
   "source": [
    "final.shape"
   ]
  },
  {
   "cell_type": "code",
   "execution_count": null,
   "metadata": {
    "id": "902faa33"
   },
   "outputs": [],
   "source": [
    "# %%time\n",
    "# # this cell causes the kernel to die. I guess it requires too much memory. So I just write the vars out and dedup the columns later\n",
    "# print(vars.shape)\n",
    "# vars = vars.T.drop_duplicates().T\n",
    "# vars.shape"
   ]
  },
  {
   "cell_type": "code",
   "execution_count": null,
   "metadata": {
    "id": "faa20b7e"
   },
   "outputs": [],
   "source": [
    "#%%time\n",
    "#final.to_csv('vars.csv',index=False)"
   ]
  },
  {
   "cell_type": "code",
   "execution_count": null,
   "metadata": {
    "id": "c61faa13"
   },
   "outputs": [],
   "source": [
    "#print('duration: ',dt.datetime.now() - start_time)\n",
    "# takes about an hour on my new laptop without deduping.\n",
    "# takes about 2 hours on my old laptop if I don't remove duplicate columns. Then I can run the separate remove duplicates code."
   ]
  },
  {
   "cell_type": "code",
   "execution_count": 131,
   "metadata": {
    "id": "sNXy27hyRrN3"
   },
   "outputs": [
    {
     "name": "stdout",
     "output_type": "stream",
     "text": [
      "(96397, 2236)\n"
     ]
    },
    {
     "data": {
      "text/plain": [
       "(96397, 1695)"
      ]
     },
     "execution_count": 131,
     "metadata": {},
     "output_type": "execute_result"
    }
   ],
   "source": [
    "#dedup code\n",
    "# this cell takes about 25 minutes on my new notebook\n",
    "# it takes about 48 minutes on my old laptop\n",
    "print(final.shape)\n",
    "final = final.T.drop_duplicates().T\n",
    "final.shape"
   ]
  },
  {
   "cell_type": "code",
   "execution_count": 132,
   "metadata": {
    "id": "93w0jjPjRrN3"
   },
   "outputs": [
    {
     "name": "stdout",
     "output_type": "stream",
     "text": [
      "CPU times: user 1min 17s, sys: 1.12 s, total: 1min 18s\n",
      "Wall time: 1min 19s\n"
     ]
    }
   ],
   "source": [
    "%%time\n",
    "final.to_csv('finalvariables.csv',index=False)"
   ]
  },
  {
   "cell_type": "code",
   "execution_count": 133,
   "metadata": {
    "id": "dTe5sRf0RrN3"
   },
   "outputs": [
    {
     "name": "stdout",
     "output_type": "stream",
     "text": [
      "duration:  4:41:15.405308\n"
     ]
    }
   ],
   "source": [
    "print('duration: ',dt.datetime.now() - start_time)"
   ]
  },
  {
   "cell_type": "code",
   "execution_count": null,
   "metadata": {
    "id": "MRAgFQqIOdSO"
   },
   "outputs": [],
   "source": []
  },
  {
   "cell_type": "code",
   "execution_count": 135,
   "metadata": {
    "id": "PciMwlpSdwd3"
   },
   "outputs": [],
   "source": [
    "# #Benford Law \n",
    "# cleaned_data = data[data['Merch description'].str.match(r\"[Ff][Ee][Dd][Ee][Xx]\") == False].copy()\n",
    "# cleaned_data['Amount'] = cleaned_data['Amount'].astype(str)"
   ]
  },
  {
   "cell_type": "code",
   "execution_count": null,
   "metadata": {
    "id": "hNAruLMUigIs"
   },
   "outputs": [],
   "source": [
    "# def n_low(df):\n",
    "#   return((df['Amount'].str.extract(r\"([1-9])\") == '1') | (df['Amount'].str.extract(r\"([1-9])\") == '2')).sum()"
   ]
  },
  {
   "cell_type": "code",
   "execution_count": null,
   "metadata": {
    "id": "Ae7wxNBOi5fr"
   },
   "outputs": [],
   "source": [
    "# cardnums = cleaned_data.groupby('Cardnum').apply(n_low)\n",
    "# cardnums['n'] = cleaned_data.groupby('Cardnum')['Amount'].count()\n",
    "# cardnums['n_low'] = cleaned_data.groupby('Cardnum').apply(n_low)\n",
    "# cardnums = cardnums[['n','n_low']]\n",
    "# cardnums['n_high'] = cardnums['n'] - cardnums['n_low']"
   ]
  },
  {
   "cell_type": "code",
   "execution_count": null,
   "metadata": {
    "id": "iTov8yqfjlsj"
   },
   "outputs": [],
   "source": [
    "# cardnums['n_low'] = cardnums['n_low'].replace(0,1)\n",
    "# cardnums['n_high'] = cardnums['n_high'].replace(0,1)"
   ]
  },
  {
   "cell_type": "code",
   "execution_count": null,
   "metadata": {
    "id": "wSRu61l4jwjR"
   },
   "outputs": [],
   "source": [
    "# cardnums['R'] = 1.096* cardnums['n_low'] / cardnums['n_high']\n",
    "# cardnums['1/R'] = 1/cardnums['R']\n",
    "# cardnums['U'] = cardnums[['R','1/R']].max(axis =1)"
   ]
  },
  {
   "cell_type": "code",
   "execution_count": null,
   "metadata": {
    "id": "fPrFenOdmQJ4"
   },
   "outputs": [],
   "source": [
    "# import math"
   ]
  },
  {
   "cell_type": "code",
   "execution_count": null,
   "metadata": {
    "id": "kt7PbBRLlVf6"
   },
   "outputs": [],
   "source": [
    "# cardnums['t'] = (cardnums['n'] -15)/3\n",
    "# cardnums['U*'] = 1+ ((cardnums['U'] -1)/(1+math.e**-cardnums['t']))"
   ]
  },
  {
   "cell_type": "code",
   "execution_count": null,
   "metadata": {
    "id": "-8MceqTYlmZ8"
   },
   "outputs": [],
   "source": [
    "# cardnums.sort_values('U*', ascending = False)[0:40].to_csv('Top 40 Cardnum.csv')"
   ]
  },
  {
   "cell_type": "code",
   "execution_count": null,
   "metadata": {
    "id": "8ZJTueslmvCo"
   },
   "outputs": [],
   "source": [
    "# merchnums = cleaned_data.groupby('Merchnum').apply(n_low)\n",
    "# merchnums['n'] = cleaned_data.groupby('Merchnum')['Amount'].count()\n",
    "# merchnums['n_low'] = cleaned_data.groupby('Merchnum').apply(n_low)\n",
    "# merchnums = merchnums[['n','n_low']]\n",
    "# merchnums['n_high'] = merchnums['n'] - merchnums['n_low']"
   ]
  },
  {
   "cell_type": "code",
   "execution_count": null,
   "metadata": {
    "id": "02A5duvhnCsv"
   },
   "outputs": [],
   "source": [
    "# merchnums['n_low'] = merchnums['n_low'].replace(0,1)\n",
    "# merchnums['n_high'] = merchnums['n_high'].replace(0,1)"
   ]
  },
  {
   "cell_type": "code",
   "execution_count": null,
   "metadata": {
    "id": "TyguvYvDnQS9"
   },
   "outputs": [],
   "source": [
    "# merchnums['R'] = 1.096* merchnums['n_low'] / merchnums['n_high']\n",
    "# merchnums['1/R'] = 1/merchnums['R']\n",
    "# merchnums['U'] = merchnums[['R','1/R']].max(axis =1)"
   ]
  },
  {
   "cell_type": "code",
   "execution_count": null,
   "metadata": {
    "id": "_A-4toC7nbEl"
   },
   "outputs": [],
   "source": [
    "# merchnums['t'] = (merchnums['n'] -15)/3\n",
    "# merchnums['U*'] = 1+ ((merchnums['U'] -1)/(1+math.e**-merchnums['t']))"
   ]
  },
  {
   "cell_type": "code",
   "execution_count": null,
   "metadata": {
    "id": "YMOKfgOFnlgX"
   },
   "outputs": [],
   "source": [
    "# merchnums.sort_values('U*', ascending = False)[0:40].to_csv('Top 40 Merchnum.csv')"
   ]
  },
  {
   "cell_type": "code",
   "execution_count": null,
   "metadata": {},
   "outputs": [],
   "source": []
  }
 ],
 "metadata": {
  "colab": {
   "provenance": []
  },
  "kernelspec": {
   "display_name": "Python 3",
   "language": "python",
   "name": "python3"
  },
  "language_info": {
   "codemirror_mode": {
    "name": "ipython",
    "version": 3
   },
   "file_extension": ".py",
   "mimetype": "text/x-python",
   "name": "python",
   "nbconvert_exporter": "python",
   "pygments_lexer": "ipython3",
   "version": "3.7.4"
  }
 },
 "nbformat": 4,
 "nbformat_minor": 1
}
