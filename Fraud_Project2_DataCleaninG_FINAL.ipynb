{
  "nbformat": 4,
  "nbformat_minor": 0,
  "metadata": {
    "colab": {
      "provenance": []
    },
    "kernelspec": {
      "name": "python3",
      "display_name": "Python 3"
    },
    "language_info": {
      "name": "python"
    }
  },
  "cells": [
    {
      "cell_type": "code",
      "source": [
        "import pandas as pd\n",
        "import scipy.stats\n",
        "import numpy as np\n",
        "import datetime as dt\n",
        "import seaborn as sns\n",
        "import matplotlib.pyplot as plt\n",
        "%matplotlib inline\n",
        "start_time = dt.datetime.now()"
      ],
      "metadata": {
        "id": "v_O-n5RBJ0B4"
      },
      "execution_count": null,
      "outputs": []
    },
    {
      "cell_type": "code",
      "execution_count": null,
      "metadata": {
        "id": "TihhhGwQJNPq"
      },
      "outputs": [],
      "source": [
        "data = pd.read_csv('/content/sample_data/card transactions.csv')"
      ]
    },
    {
      "cell_type": "code",
      "source": [
        "#drop blank columns\n",
        "data.dropna(how = 'all', axis = 1, inplace = True)\n",
        "data['Date'] = pd.to_datetime(data['Date'])\n",
        "data.info()"
      ],
      "metadata": {
        "colab": {
          "base_uri": "https://localhost:8080/"
        },
        "id": "snmdPHBLJycT",
        "outputId": "a91207d7-8129-4fe0-db82-e8852d32a4bb"
      },
      "execution_count": null,
      "outputs": [
        {
          "output_type": "stream",
          "name": "stdout",
          "text": [
            "<class 'pandas.core.frame.DataFrame'>\n",
            "RangeIndex: 96753 entries, 0 to 96752\n",
            "Data columns (total 10 columns):\n",
            " #   Column             Non-Null Count  Dtype         \n",
            "---  ------             --------------  -----         \n",
            " 0   Recnum             96753 non-null  int64         \n",
            " 1   Cardnum            96753 non-null  int64         \n",
            " 2   Date               96753 non-null  datetime64[ns]\n",
            " 3   Merchnum           93378 non-null  object        \n",
            " 4   Merch description  96753 non-null  object        \n",
            " 5   Merch state        95558 non-null  object        \n",
            " 6   Merch zip          92097 non-null  float64       \n",
            " 7   Transtype          96753 non-null  object        \n",
            " 8   Amount             96753 non-null  float64       \n",
            " 9   Fraud              96753 non-null  int64         \n",
            "dtypes: datetime64[ns](1), float64(2), int64(3), object(4)\n",
            "memory usage: 7.4+ MB\n"
          ]
        }
      ]
    },
    {
      "cell_type": "code",
      "source": [
        "data.head(10)"
      ],
      "metadata": {
        "colab": {
          "base_uri": "https://localhost:8080/",
          "height": 363
        },
        "id": "PlpZv6WqKqbp",
        "outputId": "57318b24-b17f-4729-cd8b-389097aad5dc"
      },
      "execution_count": null,
      "outputs": [
        {
          "output_type": "execute_result",
          "data": {
            "text/plain": [
              "   Recnum     Cardnum       Date       Merchnum        Merch description  \\\n",
              "0       1  5142190439 2010-01-01  5509006296254   FEDEX SHP 12/23/09 AB#   \n",
              "1       2  5142183973 2010-01-01    61003026333  SERVICE MERCHANDISE #81   \n",
              "2       3  5142131721 2010-01-01  4503082993600        OFFICE DEPOT #191   \n",
              "3       4  5142148452 2010-01-01  5509006296254   FEDEX SHP 12/28/09 AB#   \n",
              "4       5  5142190439 2010-01-01  5509006296254   FEDEX SHP 12/23/09 AB#   \n",
              "5       6  5142149874 2010-01-01  5509006296254   FEDEX SHP 12/22/09 AB#   \n",
              "6       7  5142189277 2010-01-01  5509006296254   FEDEX SHP 12/28/09 AB#   \n",
              "7       8  5142191182 2010-01-01  6098208200062    MIAMI COMPUTER SUPPLY   \n",
              "8       9  5142258629 2010-01-01   602608969534           FISHER SCI ATL   \n",
              "9      10  5142190439 2010-01-01  5509006296254   FEDEX SHP 12/23/09 AB#   \n",
              "\n",
              "  Merch state  Merch zip Transtype  Amount  Fraud  \n",
              "0          TN    38118.0         P    3.62      0  \n",
              "1          MA     1803.0         P   31.42      0  \n",
              "2          MD    20706.0         P  178.49      0  \n",
              "3          TN    38118.0         P    3.62      0  \n",
              "4          TN    38118.0         P    3.62      0  \n",
              "5          TN    38118.0         P    3.67      0  \n",
              "6          TN    38118.0         P    3.62      0  \n",
              "7          OH    45429.0         P  230.32      0  \n",
              "8          GA    30091.0         P   62.11      0  \n",
              "9          TN    38118.0         P    3.62      0  "
            ],
            "text/html": [
              "\n",
              "  <div id=\"df-85731041-9d56-4a61-9202-477945b16462\">\n",
              "    <div class=\"colab-df-container\">\n",
              "      <div>\n",
              "<style scoped>\n",
              "    .dataframe tbody tr th:only-of-type {\n",
              "        vertical-align: middle;\n",
              "    }\n",
              "\n",
              "    .dataframe tbody tr th {\n",
              "        vertical-align: top;\n",
              "    }\n",
              "\n",
              "    .dataframe thead th {\n",
              "        text-align: right;\n",
              "    }\n",
              "</style>\n",
              "<table border=\"1\" class=\"dataframe\">\n",
              "  <thead>\n",
              "    <tr style=\"text-align: right;\">\n",
              "      <th></th>\n",
              "      <th>Recnum</th>\n",
              "      <th>Cardnum</th>\n",
              "      <th>Date</th>\n",
              "      <th>Merchnum</th>\n",
              "      <th>Merch description</th>\n",
              "      <th>Merch state</th>\n",
              "      <th>Merch zip</th>\n",
              "      <th>Transtype</th>\n",
              "      <th>Amount</th>\n",
              "      <th>Fraud</th>\n",
              "    </tr>\n",
              "  </thead>\n",
              "  <tbody>\n",
              "    <tr>\n",
              "      <th>0</th>\n",
              "      <td>1</td>\n",
              "      <td>5142190439</td>\n",
              "      <td>2010-01-01</td>\n",
              "      <td>5509006296254</td>\n",
              "      <td>FEDEX SHP 12/23/09 AB#</td>\n",
              "      <td>TN</td>\n",
              "      <td>38118.0</td>\n",
              "      <td>P</td>\n",
              "      <td>3.62</td>\n",
              "      <td>0</td>\n",
              "    </tr>\n",
              "    <tr>\n",
              "      <th>1</th>\n",
              "      <td>2</td>\n",
              "      <td>5142183973</td>\n",
              "      <td>2010-01-01</td>\n",
              "      <td>61003026333</td>\n",
              "      <td>SERVICE MERCHANDISE #81</td>\n",
              "      <td>MA</td>\n",
              "      <td>1803.0</td>\n",
              "      <td>P</td>\n",
              "      <td>31.42</td>\n",
              "      <td>0</td>\n",
              "    </tr>\n",
              "    <tr>\n",
              "      <th>2</th>\n",
              "      <td>3</td>\n",
              "      <td>5142131721</td>\n",
              "      <td>2010-01-01</td>\n",
              "      <td>4503082993600</td>\n",
              "      <td>OFFICE DEPOT #191</td>\n",
              "      <td>MD</td>\n",
              "      <td>20706.0</td>\n",
              "      <td>P</td>\n",
              "      <td>178.49</td>\n",
              "      <td>0</td>\n",
              "    </tr>\n",
              "    <tr>\n",
              "      <th>3</th>\n",
              "      <td>4</td>\n",
              "      <td>5142148452</td>\n",
              "      <td>2010-01-01</td>\n",
              "      <td>5509006296254</td>\n",
              "      <td>FEDEX SHP 12/28/09 AB#</td>\n",
              "      <td>TN</td>\n",
              "      <td>38118.0</td>\n",
              "      <td>P</td>\n",
              "      <td>3.62</td>\n",
              "      <td>0</td>\n",
              "    </tr>\n",
              "    <tr>\n",
              "      <th>4</th>\n",
              "      <td>5</td>\n",
              "      <td>5142190439</td>\n",
              "      <td>2010-01-01</td>\n",
              "      <td>5509006296254</td>\n",
              "      <td>FEDEX SHP 12/23/09 AB#</td>\n",
              "      <td>TN</td>\n",
              "      <td>38118.0</td>\n",
              "      <td>P</td>\n",
              "      <td>3.62</td>\n",
              "      <td>0</td>\n",
              "    </tr>\n",
              "    <tr>\n",
              "      <th>5</th>\n",
              "      <td>6</td>\n",
              "      <td>5142149874</td>\n",
              "      <td>2010-01-01</td>\n",
              "      <td>5509006296254</td>\n",
              "      <td>FEDEX SHP 12/22/09 AB#</td>\n",
              "      <td>TN</td>\n",
              "      <td>38118.0</td>\n",
              "      <td>P</td>\n",
              "      <td>3.67</td>\n",
              "      <td>0</td>\n",
              "    </tr>\n",
              "    <tr>\n",
              "      <th>6</th>\n",
              "      <td>7</td>\n",
              "      <td>5142189277</td>\n",
              "      <td>2010-01-01</td>\n",
              "      <td>5509006296254</td>\n",
              "      <td>FEDEX SHP 12/28/09 AB#</td>\n",
              "      <td>TN</td>\n",
              "      <td>38118.0</td>\n",
              "      <td>P</td>\n",
              "      <td>3.62</td>\n",
              "      <td>0</td>\n",
              "    </tr>\n",
              "    <tr>\n",
              "      <th>7</th>\n",
              "      <td>8</td>\n",
              "      <td>5142191182</td>\n",
              "      <td>2010-01-01</td>\n",
              "      <td>6098208200062</td>\n",
              "      <td>MIAMI COMPUTER SUPPLY</td>\n",
              "      <td>OH</td>\n",
              "      <td>45429.0</td>\n",
              "      <td>P</td>\n",
              "      <td>230.32</td>\n",
              "      <td>0</td>\n",
              "    </tr>\n",
              "    <tr>\n",
              "      <th>8</th>\n",
              "      <td>9</td>\n",
              "      <td>5142258629</td>\n",
              "      <td>2010-01-01</td>\n",
              "      <td>602608969534</td>\n",
              "      <td>FISHER SCI ATL</td>\n",
              "      <td>GA</td>\n",
              "      <td>30091.0</td>\n",
              "      <td>P</td>\n",
              "      <td>62.11</td>\n",
              "      <td>0</td>\n",
              "    </tr>\n",
              "    <tr>\n",
              "      <th>9</th>\n",
              "      <td>10</td>\n",
              "      <td>5142190439</td>\n",
              "      <td>2010-01-01</td>\n",
              "      <td>5509006296254</td>\n",
              "      <td>FEDEX SHP 12/23/09 AB#</td>\n",
              "      <td>TN</td>\n",
              "      <td>38118.0</td>\n",
              "      <td>P</td>\n",
              "      <td>3.62</td>\n",
              "      <td>0</td>\n",
              "    </tr>\n",
              "  </tbody>\n",
              "</table>\n",
              "</div>\n",
              "      <button class=\"colab-df-convert\" onclick=\"convertToInteractive('df-85731041-9d56-4a61-9202-477945b16462')\"\n",
              "              title=\"Convert this dataframe to an interactive table.\"\n",
              "              style=\"display:none;\">\n",
              "        \n",
              "  <svg xmlns=\"http://www.w3.org/2000/svg\" height=\"24px\"viewBox=\"0 0 24 24\"\n",
              "       width=\"24px\">\n",
              "    <path d=\"M0 0h24v24H0V0z\" fill=\"none\"/>\n",
              "    <path d=\"M18.56 5.44l.94 2.06.94-2.06 2.06-.94-2.06-.94-.94-2.06-.94 2.06-2.06.94zm-11 1L8.5 8.5l.94-2.06 2.06-.94-2.06-.94L8.5 2.5l-.94 2.06-2.06.94zm10 10l.94 2.06.94-2.06 2.06-.94-2.06-.94-.94-2.06-.94 2.06-2.06.94z\"/><path d=\"M17.41 7.96l-1.37-1.37c-.4-.4-.92-.59-1.43-.59-.52 0-1.04.2-1.43.59L10.3 9.45l-7.72 7.72c-.78.78-.78 2.05 0 2.83L4 21.41c.39.39.9.59 1.41.59.51 0 1.02-.2 1.41-.59l7.78-7.78 2.81-2.81c.8-.78.8-2.07 0-2.86zM5.41 20L4 18.59l7.72-7.72 1.47 1.35L5.41 20z\"/>\n",
              "  </svg>\n",
              "      </button>\n",
              "      \n",
              "  <style>\n",
              "    .colab-df-container {\n",
              "      display:flex;\n",
              "      flex-wrap:wrap;\n",
              "      gap: 12px;\n",
              "    }\n",
              "\n",
              "    .colab-df-convert {\n",
              "      background-color: #E8F0FE;\n",
              "      border: none;\n",
              "      border-radius: 50%;\n",
              "      cursor: pointer;\n",
              "      display: none;\n",
              "      fill: #1967D2;\n",
              "      height: 32px;\n",
              "      padding: 0 0 0 0;\n",
              "      width: 32px;\n",
              "    }\n",
              "\n",
              "    .colab-df-convert:hover {\n",
              "      background-color: #E2EBFA;\n",
              "      box-shadow: 0px 1px 2px rgba(60, 64, 67, 0.3), 0px 1px 3px 1px rgba(60, 64, 67, 0.15);\n",
              "      fill: #174EA6;\n",
              "    }\n",
              "\n",
              "    [theme=dark] .colab-df-convert {\n",
              "      background-color: #3B4455;\n",
              "      fill: #D2E3FC;\n",
              "    }\n",
              "\n",
              "    [theme=dark] .colab-df-convert:hover {\n",
              "      background-color: #434B5C;\n",
              "      box-shadow: 0px 1px 3px 1px rgba(0, 0, 0, 0.15);\n",
              "      filter: drop-shadow(0px 1px 2px rgba(0, 0, 0, 0.3));\n",
              "      fill: #FFFFFF;\n",
              "    }\n",
              "  </style>\n",
              "\n",
              "      <script>\n",
              "        const buttonEl =\n",
              "          document.querySelector('#df-85731041-9d56-4a61-9202-477945b16462 button.colab-df-convert');\n",
              "        buttonEl.style.display =\n",
              "          google.colab.kernel.accessAllowed ? 'block' : 'none';\n",
              "\n",
              "        async function convertToInteractive(key) {\n",
              "          const element = document.querySelector('#df-85731041-9d56-4a61-9202-477945b16462');\n",
              "          const dataTable =\n",
              "            await google.colab.kernel.invokeFunction('convertToInteractive',\n",
              "                                                     [key], {});\n",
              "          if (!dataTable) return;\n",
              "\n",
              "          const docLinkHtml = 'Like what you see? Visit the ' +\n",
              "            '<a target=\"_blank\" href=https://colab.research.google.com/notebooks/data_table.ipynb>data table notebook</a>'\n",
              "            + ' to learn more about interactive tables.';\n",
              "          element.innerHTML = '';\n",
              "          dataTable['output_type'] = 'display_data';\n",
              "          await google.colab.output.renderOutput(dataTable, element);\n",
              "          const docLink = document.createElement('div');\n",
              "          docLink.innerHTML = docLinkHtml;\n",
              "          element.appendChild(docLink);\n",
              "        }\n",
              "      </script>\n",
              "    </div>\n",
              "  </div>\n",
              "  "
            ]
          },
          "metadata": {},
          "execution_count": 69
        }
      ]
    },
    {
      "cell_type": "code",
      "source": [
        "data['Merchnum'] = data['Merchnum'].replace({'0':np.nan})"
      ],
      "metadata": {
        "id": "UTqhj5LyKwRo"
      },
      "execution_count": null,
      "outputs": []
    },
    {
      "cell_type": "code",
      "source": [
        "data['Merchnum'].isnull().sum()"
      ],
      "metadata": {
        "colab": {
          "base_uri": "https://localhost:8080/"
        },
        "id": "COdjre9rLEAh",
        "outputId": "848c812d-7e0b-486c-9e83-f4af257d0afa"
      },
      "execution_count": null,
      "outputs": [
        {
          "output_type": "execute_result",
          "data": {
            "text/plain": [
              "3606"
            ]
          },
          "metadata": {},
          "execution_count": 71
        }
      ]
    },
    {
      "cell_type": "code",
      "source": [
        "merchdes_merchnum = {}\n",
        "\n",
        "for index, merchdes in data[data['Merch description'].notnull()][data['Merchnum'].notnull()]['Merch description'].items():\n",
        "  if pd.isnull(merchdes) == True:\n",
        "    continue\n",
        "  elif merchdes not in merchdes_merchnum:\n",
        "    merchdes_merchnum[merchdes] = data.loc[index, 'Merchnum']"
      ],
      "metadata": {
        "id": "GBopJNpZLIFE"
      },
      "execution_count": null,
      "outputs": []
    },
    {
      "cell_type": "code",
      "source": [
        "#fill in by mapping with Merch description\n",
        "data['Merchnum'] = data['Merchnum'].fillna(data['Merch description'].map(merchdes_merchnum))"
      ],
      "metadata": {
        "id": "k-BrTXimLwmv"
      },
      "execution_count": null,
      "outputs": []
    },
    {
      "cell_type": "code",
      "source": [
        "data['Merchnum'].isnull().sum()"
      ],
      "metadata": {
        "colab": {
          "base_uri": "https://localhost:8080/"
        },
        "id": "cmDUNfeAL_ym",
        "outputId": "5552900f-3c7e-428d-ee5a-c7a9383475a2"
      },
      "execution_count": null,
      "outputs": [
        {
          "output_type": "execute_result",
          "data": {
            "text/plain": [
              "2449"
            ]
          },
          "metadata": {},
          "execution_count": 74
        }
      ]
    },
    {
      "cell_type": "code",
      "source": [
        "#assign unknown for adjustments transactions\n",
        "data['Merchnum'] = data['Merchnum'].mask(data['Merch description'] == 'RETAIL CREDIT ADJUSTMENT', 'unknown')\n",
        "data['Merchnum'] = data['Merchnum'].mask(data['Merch description'] == 'RETAIL DEBIT ADJUSTMENT', 'unknown')"
      ],
      "metadata": {
        "id": "6ua6Nx6cMFQ7"
      },
      "execution_count": null,
      "outputs": []
    },
    {
      "cell_type": "code",
      "source": [
        "data['Merchnum'].isnull().sum()"
      ],
      "metadata": {
        "colab": {
          "base_uri": "https://localhost:8080/"
        },
        "id": "JtSNENhUNoEB",
        "outputId": "7e75e8cc-7e5a-46bf-bc31-5e832981bea6"
      },
      "execution_count": null,
      "outputs": [
        {
          "output_type": "execute_result",
          "data": {
            "text/plain": [
              "1758"
            ]
          },
          "metadata": {},
          "execution_count": 76
        }
      ]
    },
    {
      "cell_type": "code",
      "source": [
        "data.loc[data.Merchnum.isna(), 'Merch description'].unique()[:20]"
      ],
      "metadata": {
        "colab": {
          "base_uri": "https://localhost:8080/"
        },
        "id": "TgqeC1zANsdn",
        "outputId": "813ba222-cf89-422e-96c0-5a44c0385ca3"
      },
      "execution_count": null,
      "outputs": [
        {
          "output_type": "execute_result",
          "data": {
            "text/plain": [
              "array(['CONVENIENCE CHECK FEE(%)', 'MONTGOMERY COLLEGE-PHONE',\n",
              "       'CHARLESTON CO PARKING OP0', 'PACKAGE PLACE  THE',\n",
              "       'CUBIX CORPORATION', 'SIGNAL GRAPHICS PRINTING',\n",
              "       'C & M OFFICE EQUIPMENT', \"TOMMY'S TRAILERS\",\n",
              "       'Z WORLD/RABBIT SEMICONDUC', 'IMPAC/TRI-COUNTY/FREED',\n",
              "       'REPROGRPHC TECHNLGIES INC', 'STP SPECIALITY TECH',\n",
              "       'VANGARD INTERNAITONAL', 'BLACKWELL SCIENCE', 'CDN ISOTOPES INC',\n",
              "       'INTERACTIVE SOFTWARE S', 'H R WILLIAMS MILL SUPP',\n",
              "       'ELSEVIER SCIENCE BV', 'COLORADO GARDEN SHOW',\n",
              "       'PEARSON EDUCATION CANADA'], dtype=object)"
            ]
          },
          "metadata": {},
          "execution_count": 77
        }
      ]
    },
    {
      "cell_type": "code",
      "source": [
        "data.loc[data.Merchnum.isna(), 'Merch description'].nunique()\n",
        "#1758 NULL Merchnums with 667 unique descriptions"
      ],
      "metadata": {
        "colab": {
          "base_uri": "https://localhost:8080/"
        },
        "id": "Mq2O83mvN1_v",
        "outputId": "90d37379-bf2b-435e-f03c-b69c5b96b7e2"
      },
      "execution_count": null,
      "outputs": [
        {
          "output_type": "execute_result",
          "data": {
            "text/plain": [
              "667"
            ]
          },
          "metadata": {},
          "execution_count": 78
        }
      ]
    },
    {
      "cell_type": "code",
      "source": [
        "#adding new merchnum\n",
        "#each new unique merchnum will be max(merchnum) +1\n",
        "merchnum_create = {}\n",
        "max_merchnum = pd.to_numeric(data.Merchnum, errors = 'coerce').max()\n",
        "for merch_desc in data.loc[data.Merchnum.isna(), 'Merch description'].unique():\n",
        "  merchnum_create[merch_desc] = str(int(max_merchnum +1))\n",
        "  max_merchnum +=1"
      ],
      "metadata": {
        "id": "bkX6WgjOOLEV"
      },
      "execution_count": null,
      "outputs": []
    },
    {
      "cell_type": "code",
      "source": [
        "#fill in by mapping with Merch description (newly created merchnum)\n",
        "data['Merchnum'] = data['Merchnum'].fillna(data['Merch description'].map(merchnum_create))"
      ],
      "metadata": {
        "id": "qQesDfZlPNvl"
      },
      "execution_count": null,
      "outputs": []
    },
    {
      "cell_type": "code",
      "source": [
        "for i in data.columns:\n",
        "  print(i, data[i].isnull().sum())"
      ],
      "metadata": {
        "colab": {
          "base_uri": "https://localhost:8080/"
        },
        "id": "BsvOMX3aQvsx",
        "outputId": "ae9b12d6-bcd1-4a4c-890e-092dac15d8bc"
      },
      "execution_count": null,
      "outputs": [
        {
          "output_type": "stream",
          "name": "stdout",
          "text": [
            "Recnum 0\n",
            "Cardnum 0\n",
            "Date 0\n",
            "Merchnum 0\n",
            "Merch description 0\n",
            "Merch state 1195\n",
            "Merch zip 4656\n",
            "Transtype 0\n",
            "Amount 0\n",
            "Fraud 0\n"
          ]
        }
      ]
    },
    {
      "cell_type": "code",
      "source": [
        "data['Merch state'].isnull().sum()"
      ],
      "metadata": {
        "colab": {
          "base_uri": "https://localhost:8080/"
        },
        "id": "YVoxbWZ4Q7BJ",
        "outputId": "1551fe96-8d17-40e8-da89-b65fa25bce35"
      },
      "execution_count": null,
      "outputs": [
        {
          "output_type": "execute_result",
          "data": {
            "text/plain": [
              "1195"
            ]
          },
          "metadata": {},
          "execution_count": 82
        }
      ]
    },
    {
      "cell_type": "code",
      "source": [
        "data[(data['Merch state'].isnull()) & (data['Merch zip'].notnull())]['Merch zip'].unique()"
      ],
      "metadata": {
        "colab": {
          "base_uri": "https://localhost:8080/"
        },
        "id": "tS8A1FvMRCyW",
        "outputId": "0601fa1e-677d-474a-8f31-88cd97147f41"
      },
      "execution_count": null,
      "outputs": [
        {
          "output_type": "execute_result",
          "data": {
            "text/plain": [
              "array([9.2600e+02, 9.2900e+02, 1.4000e+03, 6.5132e+04, 8.6899e+04,\n",
              "       2.3080e+04, 6.0528e+04, 9.3400e+02, 9.0200e+02, 7.3800e+02,\n",
              "       9.0805e+04, 7.6302e+04, 9.0000e+00, 9.1400e+02, 6.0000e+00,\n",
              "       9.5461e+04, 5.0823e+04, 2.0000e+00, 4.8700e+04, 6.8000e+02,\n",
              "       1.0000e+00, 6.8100e+02, 6.2300e+02, 7.2600e+02, 9.3600e+02,\n",
              "       1.2108e+04, 7.9100e+02, 9.0700e+02, 9.2200e+02, 9.2000e+02,\n",
              "       3.0000e+00, 8.0100e+02, 8.0000e+00, 3.1040e+04, 3.8117e+04,\n",
              "       4.1160e+04])"
            ]
          },
          "metadata": {},
          "execution_count": 83
        }
      ]
    },
    {
      "cell_type": "code",
      "source": [
        "#dict for mapping\n",
        "zip_state = {}\n",
        "for index, zip5 in data[data['Merch zip'].notnull()]['Merch zip'].items():\n",
        "  if zip5 not in zip_state:\n",
        "    zip_state[zip5]= data.loc[index, 'Merch state']\n",
        "\n",
        "zip_state['00926'] = 'PR'\n",
        "zip_state['00929'] = 'PR'\n",
        "zip_state['00934'] = 'PR'\n",
        "zip_state['00902'] = 'PR'\n",
        "zip_state['00738'] = 'PR'\n",
        "zip_state['90805'] = 'CA'\n",
        "zip_state['76302'] = 'TX'\n",
        "zip_state['00914'] = 'PR'\n",
        "zip_state['95461'] = 'CA'\n",
        "zip_state['00680'] = 'PR'\n",
        "zip_state['00623'] = 'PR'\n",
        "zip_state['00726'] = 'PR'\n",
        "zip_state['00936'] = 'PR'\n",
        "zip_state['12108'] = 'NY'\n",
        "zip_state['00791'] = 'PR'\n",
        "zip_state['00907'] = 'PR'\n",
        "zip_state['00922'] = 'PR'\n",
        "zip_state['00920'] = 'PR'\n",
        "zip_state['00801'] = 'VI'\n",
        "zip_state['31040'] = 'GA'\n",
        "zip_state['41160'] = 'KY'\n",
        "zip_state['00681'] = 'PR'"
      ],
      "metadata": {
        "id": "JlnxqBvGRjfA"
      },
      "execution_count": null,
      "outputs": []
    },
    {
      "cell_type": "code",
      "source": [
        "merchnum_state = {}\n",
        "for index, merchnum in data[data['Merchnum'].notnull()]['Merchnum'].items():\n",
        "  if merchnum not in merchnum_state:\n",
        "    merchnum_state [merchnum] = data.loc[index, 'Merch state']"
      ],
      "metadata": {
        "id": "gIV5uGFBTFB2"
      },
      "execution_count": null,
      "outputs": []
    },
    {
      "cell_type": "code",
      "source": [
        "merchdes_state = {}\n",
        "for index, merchdes in data[data['Merch description'].notnull()]['Merch description'].items():\n",
        "  if merchdes not in merchdes_state:\n",
        "    merchdes_state [merchdes] = data.loc[index, 'Merch state']"
      ],
      "metadata": {
        "id": "kJtw1J4eTZME"
      },
      "execution_count": null,
      "outputs": []
    },
    {
      "cell_type": "code",
      "source": [
        "#fill in by mapping with zip, merchnum and merch description\n",
        "data['Merch state'] = data['Merch state'].fillna(data['Merch zip'].map(zip_state))\n",
        "data['Merch state'] = data['Merch state'].fillna(data['Merchnum'].map(merchnum_state))\n",
        "data['Merch state'] = data['Merch state'].fillna(data['Merch description'].map(merchdes_state))"
      ],
      "metadata": {
        "id": "ryBd2w1gTp8Z"
      },
      "execution_count": null,
      "outputs": []
    },
    {
      "cell_type": "code",
      "source": [
        "#assign unknown for adjustments transactions\n",
        "data['Merch state'] = data['Merch state'].mask(data['Merch description'] == 'RETAIL CREDIT ADJUSTMENT', 'unknown')\n",
        "data['Merch state'] = data['Merch state'].mask(data['Merch description'] == 'RETAIL DEBIT ADJUSTMENT', 'unknown')"
      ],
      "metadata": {
        "id": "yr3_UEDeVcde"
      },
      "execution_count": null,
      "outputs": []
    },
    {
      "cell_type": "code",
      "source": [
        "data['Merch state'].isnull().sum()"
      ],
      "metadata": {
        "colab": {
          "base_uri": "https://localhost:8080/"
        },
        "id": "X3bJK9zBUJGW",
        "outputId": "9a69bac0-7a77-4826-a3ba-2ec0cc5f989d"
      },
      "execution_count": null,
      "outputs": [
        {
          "output_type": "execute_result",
          "data": {
            "text/plain": [
              "521"
            ]
          },
          "metadata": {},
          "execution_count": 89
        }
      ]
    },
    {
      "cell_type": "code",
      "source": [
        "# change non-US states\n",
        "states = [ 'AK', 'AL', 'AR', 'AZ', 'CA', 'CO', 'CT', 'DC', 'DE', 'FL', 'GA',\n",
        "'HI', 'IA', 'ID', 'IL', 'IN', 'KS', 'KY', 'LA', 'MA', 'MD', 'ME',\n",
        "'MI', 'MN', 'MO', 'MS', 'MT', 'NC', 'ND', 'NE', 'NH', 'NJ', 'NM',\n",
        "'NV', 'NY', 'OH', 'OK', 'OR', 'PA', 'RI', 'SC', 'SD', 'TN', 'TX',\n",
        "'UT', 'VA', 'VT', 'WA', 'WI', 'WV', 'WY', 'PR', np.nan, 'unknown']"
      ],
      "metadata": {
        "id": "4YTHJiWpUZlH"
      },
      "execution_count": null,
      "outputs": []
    },
    {
      "cell_type": "code",
      "source": [
        "for index, state in data['Merch state'].items():\n",
        "  if state not in states:\n",
        "    data.loc[index, 'Merch state'] = 'foreign'"
      ],
      "metadata": {
        "id": "13lR2JCXkJ0F"
      },
      "execution_count": null,
      "outputs": []
    },
    {
      "cell_type": "code",
      "source": [
        "data['Merch state'].fillna('unknown', inplace = True)\n",
        "data['Merch state'].isnull().sum()"
      ],
      "metadata": {
        "colab": {
          "base_uri": "https://localhost:8080/"
        },
        "id": "Od9DR-NYkUmf",
        "outputId": "08327a3f-b966-4c01-e93e-fecbba29efc2"
      },
      "execution_count": null,
      "outputs": [
        {
          "output_type": "execute_result",
          "data": {
            "text/plain": [
              "0"
            ]
          },
          "metadata": {},
          "execution_count": 92
        }
      ]
    },
    {
      "cell_type": "code",
      "source": [
        "#CLEAN AND IMPUTE ZIP\n",
        "data['Merch zip'].isnull().sum()"
      ],
      "metadata": {
        "colab": {
          "base_uri": "https://localhost:8080/"
        },
        "id": "pokrYIDIZgMS",
        "outputId": "b44f074e-2ba9-44b9-9011-a06231bb4e45"
      },
      "execution_count": null,
      "outputs": [
        {
          "output_type": "execute_result",
          "data": {
            "text/plain": [
              "4656"
            ]
          },
          "metadata": {},
          "execution_count": 93
        }
      ]
    },
    {
      "cell_type": "code",
      "source": [
        "merchnum_zip = {}\n",
        "for index, merchnum in data[data['Merchnum'].notnull()]['Merchnum'].items():\n",
        "  if merchnum not in merchnum_zip:\n",
        "    merchnum_zip [merchnum] = data.loc[index, 'Merch zip']"
      ],
      "metadata": {
        "id": "duYaAVMPc348"
      },
      "execution_count": null,
      "outputs": []
    },
    {
      "cell_type": "code",
      "source": [
        "merchdes_zip = {}\n",
        "for index, merchdes in data[data['Merch description'].notnull()]['Merch description'].items():\n",
        "  if merchdes not in merchdes_zip:\n",
        "    merchdes_zip [merchdes] = data.loc[index, 'Merch zip']"
      ],
      "metadata": {
        "id": "-bmW3uXFdqWc"
      },
      "execution_count": null,
      "outputs": []
    },
    {
      "cell_type": "code",
      "source": [
        "data['Merch zip'] = data['Merch zip'].fillna(data['Merchnum'].map(merchnum_zip))\n",
        "data['Merch zip'] = data['Merch zip'].fillna(data['Merch description'].map(merchdes_zip))"
      ],
      "metadata": {
        "id": "1OyC-PK3d0KN"
      },
      "execution_count": null,
      "outputs": []
    },
    {
      "cell_type": "code",
      "source": [
        "data['Merch zip'].isnull().sum()"
      ],
      "metadata": {
        "colab": {
          "base_uri": "https://localhost:8080/"
        },
        "id": "WyrTQQrKeR3s",
        "outputId": "d8695163-acd3-45a8-bee5-30559784e5aa"
      },
      "execution_count": null,
      "outputs": [
        {
          "output_type": "execute_result",
          "data": {
            "text/plain": [
              "3014"
            ]
          },
          "metadata": {},
          "execution_count": 97
        }
      ]
    },
    {
      "cell_type": "code",
      "source": [
        "\n",
        "data['Merch zip'] = data['Merch zip'].mask(data['Merch description'] == 'RETAIL CREDIT ADJUSTMENT', 'unknown')\n",
        "data['Merch zip'] = data['Merch zip'].mask(data['Merch description'] == 'RETAIL DEBIT ADJUSTMENT', 'unknown')"
      ],
      "metadata": {
        "id": "T7_rp3SAe0HL"
      },
      "execution_count": null,
      "outputs": []
    },
    {
      "cell_type": "code",
      "source": [
        "data['Merch zip'].isnull().sum()"
      ],
      "metadata": {
        "colab": {
          "base_uri": "https://localhost:8080/"
        },
        "id": "oi8T3NE7fACE",
        "outputId": "44f1525f-a79e-4a3f-9a30-6e1c7714afe0"
      },
      "execution_count": null,
      "outputs": [
        {
          "output_type": "execute_result",
          "data": {
            "text/plain": [
              "2332"
            ]
          },
          "metadata": {},
          "execution_count": 99
        }
      ]
    },
    {
      "cell_type": "code",
      "source": [
        "data['Merch zip'].fillna('unknown', inplace = True)\n",
        "data['Merch zip'].isnull().sum()"
      ],
      "metadata": {
        "colab": {
          "base_uri": "https://localhost:8080/"
        },
        "id": "gGyAvlLWfFIM",
        "outputId": "eb4fe47a-97f0-487b-86e9-da6e0878e716"
      },
      "execution_count": null,
      "outputs": [
        {
          "output_type": "execute_result",
          "data": {
            "text/plain": [
              "0"
            ]
          },
          "metadata": {},
          "execution_count": 100
        }
      ]
    },
    {
      "cell_type": "code",
      "source": [
        "data['Transtype'].isnull().sum()"
      ],
      "metadata": {
        "colab": {
          "base_uri": "https://localhost:8080/"
        },
        "id": "-i5eOQI5jDPF",
        "outputId": "253caff5-7e89-4705-c1ff-945c1d60acc6"
      },
      "execution_count": null,
      "outputs": [
        {
          "output_type": "execute_result",
          "data": {
            "text/plain": [
              "0"
            ]
          },
          "metadata": {},
          "execution_count": 101
        }
      ]
    },
    {
      "cell_type": "code",
      "source": [
        "data['Fraud'].isnull().sum()"
      ],
      "metadata": {
        "colab": {
          "base_uri": "https://localhost:8080/"
        },
        "id": "cTu8xdX0jHDZ",
        "outputId": "485fe399-ce05-4028-abdf-708783cf6143"
      },
      "execution_count": null,
      "outputs": [
        {
          "output_type": "execute_result",
          "data": {
            "text/plain": [
              "0"
            ]
          },
          "metadata": {},
          "execution_count": 102
        }
      ]
    },
    {
      "cell_type": "code",
      "source": [
        "data.shape"
      ],
      "metadata": {
        "colab": {
          "base_uri": "https://localhost:8080/"
        },
        "id": "-NJf9nx2jJOZ",
        "outputId": "9871b105-571e-4978-b3c8-e87114cf074c"
      },
      "execution_count": null,
      "outputs": [
        {
          "output_type": "execute_result",
          "data": {
            "text/plain": [
              "(96753, 10)"
            ]
          },
          "metadata": {},
          "execution_count": 103
        }
      ]
    },
    {
      "cell_type": "code",
      "source": [
        "#remove outliers \n",
        "max_index = data['Amount'].idxmax()\n",
        "data = data.drop(max_index)"
      ],
      "metadata": {
        "id": "qtoJWFCuU14d"
      },
      "execution_count": null,
      "outputs": []
    },
    {
      "cell_type": "code",
      "source": [
        "data.shape"
      ],
      "metadata": {
        "colab": {
          "base_uri": "https://localhost:8080/"
        },
        "id": "oemuF_-ib5X6",
        "outputId": "639f051e-2be6-49e4-dc46-af0fb8e6dd22"
      },
      "execution_count": null,
      "outputs": [
        {
          "output_type": "execute_result",
          "data": {
            "text/plain": [
              "(96752, 10)"
            ]
          },
          "metadata": {},
          "execution_count": 105
        }
      ]
    },
    {
      "cell_type": "code",
      "source": [
        "#all but the 'P' transactions \n",
        "data = data[data['Transtype'] == 'P']"
      ],
      "metadata": {
        "id": "WMr_2ivMadyC"
      },
      "execution_count": null,
      "outputs": []
    },
    {
      "cell_type": "code",
      "source": [
        "data.shape"
      ],
      "metadata": {
        "colab": {
          "base_uri": "https://localhost:8080/"
        },
        "id": "Tyhw9JbRae_H",
        "outputId": "9394d683-8bf8-4ddc-86e6-04d7f8e316f2"
      },
      "execution_count": null,
      "outputs": [
        {
          "output_type": "execute_result",
          "data": {
            "text/plain": [
              "(96397, 10)"
            ]
          },
          "metadata": {},
          "execution_count": 107
        }
      ]
    },
    {
      "cell_type": "code",
      "source": [
        "data.to_csv('card transactions after cleaning.csv', index=False)"
      ],
      "metadata": {
        "id": "VnKHd8qENdiH"
      },
      "execution_count": null,
      "outputs": []
    }
  ]
}